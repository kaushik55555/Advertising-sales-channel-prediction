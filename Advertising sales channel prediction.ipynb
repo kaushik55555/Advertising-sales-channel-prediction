{
 "cells": [
  {
   "cell_type": "code",
   "execution_count": 1,
   "id": "da30a40f",
   "metadata": {},
   "outputs": [],
   "source": [
    "import pandas as pd \n",
    "import numpy as np\n",
    "import matplotlib.pyplot as plt\n",
    "import seaborn as sn\n",
    "import warnings\n",
    "warnings.filterwarnings('ignore')"
   ]
  },
  {
   "cell_type": "code",
   "execution_count": 2,
   "id": "c256bcfb",
   "metadata": {},
   "outputs": [],
   "source": [
    "df=pd.read_csv(\"C:\\Data Science\\Data Trained\\Advertising sales\\Advertising.csv\")"
   ]
  },
  {
   "cell_type": "code",
   "execution_count": 3,
   "id": "26efda39",
   "metadata": {},
   "outputs": [
    {
     "data": {
      "text/html": [
       "<div>\n",
       "<style scoped>\n",
       "    .dataframe tbody tr th:only-of-type {\n",
       "        vertical-align: middle;\n",
       "    }\n",
       "\n",
       "    .dataframe tbody tr th {\n",
       "        vertical-align: top;\n",
       "    }\n",
       "\n",
       "    .dataframe thead th {\n",
       "        text-align: right;\n",
       "    }\n",
       "</style>\n",
       "<table border=\"1\" class=\"dataframe\">\n",
       "  <thead>\n",
       "    <tr style=\"text-align: right;\">\n",
       "      <th></th>\n",
       "      <th>Unnamed: 0</th>\n",
       "      <th>TV</th>\n",
       "      <th>radio</th>\n",
       "      <th>newspaper</th>\n",
       "      <th>sales</th>\n",
       "    </tr>\n",
       "  </thead>\n",
       "  <tbody>\n",
       "    <tr>\n",
       "      <th>0</th>\n",
       "      <td>1</td>\n",
       "      <td>230.1</td>\n",
       "      <td>37.8</td>\n",
       "      <td>69.2</td>\n",
       "      <td>22.1</td>\n",
       "    </tr>\n",
       "    <tr>\n",
       "      <th>1</th>\n",
       "      <td>2</td>\n",
       "      <td>44.5</td>\n",
       "      <td>39.3</td>\n",
       "      <td>45.1</td>\n",
       "      <td>10.4</td>\n",
       "    </tr>\n",
       "    <tr>\n",
       "      <th>2</th>\n",
       "      <td>3</td>\n",
       "      <td>17.2</td>\n",
       "      <td>45.9</td>\n",
       "      <td>69.3</td>\n",
       "      <td>9.3</td>\n",
       "    </tr>\n",
       "    <tr>\n",
       "      <th>3</th>\n",
       "      <td>4</td>\n",
       "      <td>151.5</td>\n",
       "      <td>41.3</td>\n",
       "      <td>58.5</td>\n",
       "      <td>18.5</td>\n",
       "    </tr>\n",
       "    <tr>\n",
       "      <th>4</th>\n",
       "      <td>5</td>\n",
       "      <td>180.8</td>\n",
       "      <td>10.8</td>\n",
       "      <td>58.4</td>\n",
       "      <td>12.9</td>\n",
       "    </tr>\n",
       "    <tr>\n",
       "      <th>...</th>\n",
       "      <td>...</td>\n",
       "      <td>...</td>\n",
       "      <td>...</td>\n",
       "      <td>...</td>\n",
       "      <td>...</td>\n",
       "    </tr>\n",
       "    <tr>\n",
       "      <th>195</th>\n",
       "      <td>196</td>\n",
       "      <td>38.2</td>\n",
       "      <td>3.7</td>\n",
       "      <td>13.8</td>\n",
       "      <td>7.6</td>\n",
       "    </tr>\n",
       "    <tr>\n",
       "      <th>196</th>\n",
       "      <td>197</td>\n",
       "      <td>94.2</td>\n",
       "      <td>4.9</td>\n",
       "      <td>8.1</td>\n",
       "      <td>9.7</td>\n",
       "    </tr>\n",
       "    <tr>\n",
       "      <th>197</th>\n",
       "      <td>198</td>\n",
       "      <td>177.0</td>\n",
       "      <td>9.3</td>\n",
       "      <td>6.4</td>\n",
       "      <td>12.8</td>\n",
       "    </tr>\n",
       "    <tr>\n",
       "      <th>198</th>\n",
       "      <td>199</td>\n",
       "      <td>283.6</td>\n",
       "      <td>42.0</td>\n",
       "      <td>66.2</td>\n",
       "      <td>25.5</td>\n",
       "    </tr>\n",
       "    <tr>\n",
       "      <th>199</th>\n",
       "      <td>200</td>\n",
       "      <td>232.1</td>\n",
       "      <td>8.6</td>\n",
       "      <td>8.7</td>\n",
       "      <td>13.4</td>\n",
       "    </tr>\n",
       "  </tbody>\n",
       "</table>\n",
       "<p>200 rows × 5 columns</p>\n",
       "</div>"
      ],
      "text/plain": [
       "     Unnamed: 0     TV  radio  newspaper  sales\n",
       "0             1  230.1   37.8       69.2   22.1\n",
       "1             2   44.5   39.3       45.1   10.4\n",
       "2             3   17.2   45.9       69.3    9.3\n",
       "3             4  151.5   41.3       58.5   18.5\n",
       "4             5  180.8   10.8       58.4   12.9\n",
       "..          ...    ...    ...        ...    ...\n",
       "195         196   38.2    3.7       13.8    7.6\n",
       "196         197   94.2    4.9        8.1    9.7\n",
       "197         198  177.0    9.3        6.4   12.8\n",
       "198         199  283.6   42.0       66.2   25.5\n",
       "199         200  232.1    8.6        8.7   13.4\n",
       "\n",
       "[200 rows x 5 columns]"
      ]
     },
     "execution_count": 3,
     "metadata": {},
     "output_type": "execute_result"
    }
   ],
   "source": [
    "df"
   ]
  },
  {
   "cell_type": "markdown",
   "id": "51c453e3",
   "metadata": {},
   "source": [
    "All columns are numeric and continous in nature"
   ]
  },
  {
   "cell_type": "code",
   "execution_count": null,
   "id": "b1a9a4f0",
   "metadata": {},
   "outputs": [],
   "source": []
  },
  {
   "cell_type": "code",
   "execution_count": 4,
   "id": "86f31def",
   "metadata": {},
   "outputs": [
    {
     "data": {
      "text/html": [
       "<div>\n",
       "<style scoped>\n",
       "    .dataframe tbody tr th:only-of-type {\n",
       "        vertical-align: middle;\n",
       "    }\n",
       "\n",
       "    .dataframe tbody tr th {\n",
       "        vertical-align: top;\n",
       "    }\n",
       "\n",
       "    .dataframe thead th {\n",
       "        text-align: right;\n",
       "    }\n",
       "</style>\n",
       "<table border=\"1\" class=\"dataframe\">\n",
       "  <thead>\n",
       "    <tr style=\"text-align: right;\">\n",
       "      <th></th>\n",
       "      <th>Unnamed: 0</th>\n",
       "      <th>TV</th>\n",
       "      <th>radio</th>\n",
       "      <th>newspaper</th>\n",
       "      <th>sales</th>\n",
       "    </tr>\n",
       "  </thead>\n",
       "  <tbody>\n",
       "    <tr>\n",
       "      <th>count</th>\n",
       "      <td>200.000000</td>\n",
       "      <td>200.000000</td>\n",
       "      <td>200.000000</td>\n",
       "      <td>200.000000</td>\n",
       "      <td>200.000000</td>\n",
       "    </tr>\n",
       "    <tr>\n",
       "      <th>mean</th>\n",
       "      <td>100.500000</td>\n",
       "      <td>147.042500</td>\n",
       "      <td>23.264000</td>\n",
       "      <td>30.554000</td>\n",
       "      <td>14.022500</td>\n",
       "    </tr>\n",
       "    <tr>\n",
       "      <th>std</th>\n",
       "      <td>57.879185</td>\n",
       "      <td>85.854236</td>\n",
       "      <td>14.846809</td>\n",
       "      <td>21.778621</td>\n",
       "      <td>5.217457</td>\n",
       "    </tr>\n",
       "    <tr>\n",
       "      <th>min</th>\n",
       "      <td>1.000000</td>\n",
       "      <td>0.700000</td>\n",
       "      <td>0.000000</td>\n",
       "      <td>0.300000</td>\n",
       "      <td>1.600000</td>\n",
       "    </tr>\n",
       "    <tr>\n",
       "      <th>25%</th>\n",
       "      <td>50.750000</td>\n",
       "      <td>74.375000</td>\n",
       "      <td>9.975000</td>\n",
       "      <td>12.750000</td>\n",
       "      <td>10.375000</td>\n",
       "    </tr>\n",
       "    <tr>\n",
       "      <th>50%</th>\n",
       "      <td>100.500000</td>\n",
       "      <td>149.750000</td>\n",
       "      <td>22.900000</td>\n",
       "      <td>25.750000</td>\n",
       "      <td>12.900000</td>\n",
       "    </tr>\n",
       "    <tr>\n",
       "      <th>75%</th>\n",
       "      <td>150.250000</td>\n",
       "      <td>218.825000</td>\n",
       "      <td>36.525000</td>\n",
       "      <td>45.100000</td>\n",
       "      <td>17.400000</td>\n",
       "    </tr>\n",
       "    <tr>\n",
       "      <th>max</th>\n",
       "      <td>200.000000</td>\n",
       "      <td>296.400000</td>\n",
       "      <td>49.600000</td>\n",
       "      <td>114.000000</td>\n",
       "      <td>27.000000</td>\n",
       "    </tr>\n",
       "  </tbody>\n",
       "</table>\n",
       "</div>"
      ],
      "text/plain": [
       "       Unnamed: 0          TV       radio   newspaper       sales\n",
       "count  200.000000  200.000000  200.000000  200.000000  200.000000\n",
       "mean   100.500000  147.042500   23.264000   30.554000   14.022500\n",
       "std     57.879185   85.854236   14.846809   21.778621    5.217457\n",
       "min      1.000000    0.700000    0.000000    0.300000    1.600000\n",
       "25%     50.750000   74.375000    9.975000   12.750000   10.375000\n",
       "50%    100.500000  149.750000   22.900000   25.750000   12.900000\n",
       "75%    150.250000  218.825000   36.525000   45.100000   17.400000\n",
       "max    200.000000  296.400000   49.600000  114.000000   27.000000"
      ]
     },
     "execution_count": 4,
     "metadata": {},
     "output_type": "execute_result"
    }
   ],
   "source": [
    "df.describe()"
   ]
  },
  {
   "cell_type": "code",
   "execution_count": null,
   "id": "17db5c98",
   "metadata": {},
   "outputs": [],
   "source": []
  },
  {
   "cell_type": "code",
   "execution_count": 5,
   "id": "94a840ae",
   "metadata": {},
   "outputs": [
    {
     "data": {
      "text/plain": [
       "(200, 5)"
      ]
     },
     "execution_count": 5,
     "metadata": {},
     "output_type": "execute_result"
    }
   ],
   "source": [
    "df.shape"
   ]
  },
  {
   "cell_type": "markdown",
   "id": "b008a5fe",
   "metadata": {},
   "source": [
    "There are 200 rows and 5 columns"
   ]
  },
  {
   "cell_type": "code",
   "execution_count": null,
   "id": "84184669",
   "metadata": {},
   "outputs": [],
   "source": []
  },
  {
   "cell_type": "code",
   "execution_count": null,
   "id": "2de65a44",
   "metadata": {},
   "outputs": [],
   "source": []
  },
  {
   "cell_type": "code",
   "execution_count": 6,
   "id": "605fbe2a",
   "metadata": {},
   "outputs": [
    {
     "data": {
      "text/plain": [
       "Unnamed: 0      int64\n",
       "TV            float64\n",
       "radio         float64\n",
       "newspaper     float64\n",
       "sales         float64\n",
       "dtype: object"
      ]
     },
     "execution_count": 6,
     "metadata": {},
     "output_type": "execute_result"
    }
   ],
   "source": [
    "df.dtypes"
   ]
  },
  {
   "cell_type": "code",
   "execution_count": 7,
   "id": "5b9f0c01",
   "metadata": {},
   "outputs": [
    {
     "data": {
      "text/plain": [
       "Unnamed: 0    0\n",
       "TV            0\n",
       "radio         0\n",
       "newspaper     0\n",
       "sales         0\n",
       "dtype: int64"
      ]
     },
     "execution_count": 7,
     "metadata": {},
     "output_type": "execute_result"
    }
   ],
   "source": [
    "df.isnull().sum()"
   ]
  },
  {
   "cell_type": "code",
   "execution_count": null,
   "id": "13b6520b",
   "metadata": {},
   "outputs": [],
   "source": []
  },
  {
   "cell_type": "code",
   "execution_count": null,
   "id": "543d3432",
   "metadata": {},
   "outputs": [],
   "source": []
  },
  {
   "cell_type": "code",
   "execution_count": null,
   "id": "cd1765ad",
   "metadata": {},
   "outputs": [],
   "source": []
  },
  {
   "cell_type": "markdown",
   "id": "8750e8f0",
   "metadata": {},
   "source": [
    "# Checking for Outliers:"
   ]
  },
  {
   "cell_type": "code",
   "execution_count": 8,
   "id": "f85255ca",
   "metadata": {},
   "outputs": [
    {
     "data": {
      "image/png": "[encoded data removed]",
      "text/plain": [
       "<Figure size 1440x576 with 1 Axes>"
      ]
     },
     "metadata": {
      "needs_background": "light"
     },
     "output_type": "display_data"
    }
   ],
   "source": [
    "df.boxplot(figsize=[20,8])\n",
    "plt.subplots_adjust(bottom=0.25)\n",
    "plt.show()"
   ]
  },
  {
   "cell_type": "markdown",
   "id": "b49f64c9",
   "metadata": {},
   "source": [
    "There are few Outliers in the newspaper coluumn"
   ]
  },
  {
   "cell_type": "code",
   "execution_count": null,
   "id": "71824715",
   "metadata": {},
   "outputs": [],
   "source": []
  },
  {
   "cell_type": "markdown",
   "id": "46af3ed1",
   "metadata": {},
   "source": [
    "df.columns"
   ]
  },
  {
   "cell_type": "markdown",
   "id": "cfe84f86",
   "metadata": {},
   "source": [
    "# Univariate Analysis:"
   ]
  },
  {
   "cell_type": "code",
   "execution_count": 9,
   "id": "826e117d",
   "metadata": {},
   "outputs": [
    {
     "data": {
      "text/plain": [
       "<AxesSubplot:xlabel='TV', ylabel='Density'>"
      ]
     },
     "execution_count": 9,
     "metadata": {},
     "output_type": "execute_result"
    },
    {
     "data": {
      "image/png": "[encoded data removed]",
      "text/plain": [
       "<Figure size 432x288 with 1 Axes>"
      ]
     },
     "metadata": {
      "needs_background": "light"
     },
     "output_type": "display_data"
    }
   ],
   "source": [
    "sn.distplot(df[\"TV\"])"
   ]
  },
  {
   "cell_type": "code",
   "execution_count": 10,
   "id": "e56f870d",
   "metadata": {},
   "outputs": [
    {
     "data": {
      "text/plain": [
       "147.0425"
      ]
     },
     "execution_count": 10,
     "metadata": {},
     "output_type": "execute_result"
    }
   ],
   "source": [
    "df[\"TV\"].mean()"
   ]
  },
  {
   "cell_type": "code",
   "execution_count": 11,
   "id": "3beda8bf",
   "metadata": {},
   "outputs": [
    {
     "data": {
      "text/plain": [
       "149.75"
      ]
     },
     "execution_count": 11,
     "metadata": {},
     "output_type": "execute_result"
    }
   ],
   "source": [
    "df[\"TV\"].median()"
   ]
  },
  {
   "cell_type": "raw",
   "id": "9a2ca8b1",
   "metadata": {},
   "source": [
    "TV column is somewhat normally distributed"
   ]
  },
  {
   "cell_type": "code",
   "execution_count": null,
   "id": "c9bc5741",
   "metadata": {},
   "outputs": [],
   "source": []
  },
  {
   "cell_type": "code",
   "execution_count": null,
   "id": "72166781",
   "metadata": {},
   "outputs": [],
   "source": []
  },
  {
   "cell_type": "code",
   "execution_count": 12,
   "id": "2f82e556",
   "metadata": {
    "scrolled": true
   },
   "outputs": [
    {
     "data": {
      "text/plain": [
       "<AxesSubplot:xlabel='radio', ylabel='Density'>"
      ]
     },
     "execution_count": 12,
     "metadata": {},
     "output_type": "execute_result"
    },
    {
     "data": {
      "image/png": "[encoded data removed]",
      "text/plain": [
       "<Figure size 432x288 with 1 Axes>"
      ]
     },
     "metadata": {
      "needs_background": "light"
     },
     "output_type": "display_data"
    }
   ],
   "source": [
    "sn.distplot(df[\"radio\"])"
   ]
  },
  {
   "cell_type": "code",
   "execution_count": 13,
   "id": "2f15a910",
   "metadata": {},
   "outputs": [
    {
     "data": {
      "text/plain": [
       "23.264000000000006"
      ]
     },
     "execution_count": 13,
     "metadata": {},
     "output_type": "execute_result"
    }
   ],
   "source": [
    "df[\"radio\"].mean()"
   ]
  },
  {
   "cell_type": "code",
   "execution_count": 14,
   "id": "ae4e71d0",
   "metadata": {},
   "outputs": [
    {
     "data": {
      "text/plain": [
       "22.9"
      ]
     },
     "execution_count": 14,
     "metadata": {},
     "output_type": "execute_result"
    }
   ],
   "source": [
    "df[\"radio\"].median()"
   ]
  },
  {
   "cell_type": "markdown",
   "id": "92ae9959",
   "metadata": {},
   "source": [
    "radio column is somewhat normally distributed"
   ]
  },
  {
   "cell_type": "code",
   "execution_count": null,
   "id": "687474ca",
   "metadata": {},
   "outputs": [],
   "source": []
  },
  {
   "cell_type": "code",
   "execution_count": 15,
   "id": "849fd341",
   "metadata": {},
   "outputs": [
    {
     "data": {
      "text/plain": [
       "<AxesSubplot:xlabel='newspaper', ylabel='Density'>"
      ]
     },
     "execution_count": 15,
     "metadata": {},
     "output_type": "execute_result"
    },
    {
     "data": {
      "image/png": "[encoded data removed]",
      "text/plain": [
       "<Figure size 432x288 with 1 Axes>"
      ]
     },
     "metadata": {
      "needs_background": "light"
     },
     "output_type": "display_data"
    }
   ],
   "source": [
    "sn.distplot(df[\"newspaper\"])"
   ]
  },
  {
   "cell_type": "code",
   "execution_count": 16,
   "id": "8a018082",
   "metadata": {},
   "outputs": [
    {
     "data": {
      "text/plain": [
       "30.553999999999995"
      ]
     },
     "execution_count": 16,
     "metadata": {},
     "output_type": "execute_result"
    }
   ],
   "source": [
    "df[\"newspaper\"].mean()"
   ]
  },
  {
   "cell_type": "code",
   "execution_count": 17,
   "id": "fc21568a",
   "metadata": {},
   "outputs": [
    {
     "data": {
      "text/plain": [
       "25.75"
      ]
     },
     "execution_count": 17,
     "metadata": {},
     "output_type": "execute_result"
    }
   ],
   "source": [
    "df[\"newspaper\"].median()"
   ]
  },
  {
   "cell_type": "markdown",
   "id": "40626ec4",
   "metadata": {},
   "source": [
    "newspaper column looks like a right skewed distribution"
   ]
  },
  {
   "cell_type": "code",
   "execution_count": null,
   "id": "9a33d9c2",
   "metadata": {},
   "outputs": [],
   "source": []
  },
  {
   "cell_type": "code",
   "execution_count": null,
   "id": "85c50b8d",
   "metadata": {},
   "outputs": [],
   "source": []
  },
  {
   "cell_type": "code",
   "execution_count": null,
   "id": "3ac2df64",
   "metadata": {},
   "outputs": [],
   "source": []
  },
  {
   "cell_type": "code",
   "execution_count": 18,
   "id": "ad54643f",
   "metadata": {},
   "outputs": [
    {
     "data": {
      "text/plain": [
       "<AxesSubplot:xlabel='sales', ylabel='Density'>"
      ]
     },
     "execution_count": 18,
     "metadata": {},
     "output_type": "execute_result"
    },
    {
     "data": {
      "image/png": "[encoded data removed]",
      "text/plain": [
       "<Figure size 432x288 with 1 Axes>"
      ]
     },
     "metadata": {
      "needs_background": "light"
     },
     "output_type": "display_data"
    }
   ],
   "source": [
    "sn.distplot(df[\"sales\"])"
   ]
  },
  {
   "cell_type": "code",
   "execution_count": 19,
   "id": "924bf145",
   "metadata": {},
   "outputs": [
    {
     "data": {
      "text/plain": [
       "14.0225"
      ]
     },
     "execution_count": 19,
     "metadata": {},
     "output_type": "execute_result"
    }
   ],
   "source": [
    "df[\"sales\"].mean()"
   ]
  },
  {
   "cell_type": "code",
   "execution_count": 20,
   "id": "3127283e",
   "metadata": {},
   "outputs": [
    {
     "data": {
      "text/plain": [
       "12.9"
      ]
     },
     "execution_count": 20,
     "metadata": {},
     "output_type": "execute_result"
    }
   ],
   "source": [
    "df[\"sales\"].median()"
   ]
  },
  {
   "cell_type": "markdown",
   "id": "ce183649",
   "metadata": {},
   "source": [
    "sales column seens normally distributed "
   ]
  },
  {
   "cell_type": "code",
   "execution_count": null,
   "id": "b1ae2d36",
   "metadata": {},
   "outputs": [],
   "source": []
  },
  {
   "cell_type": "code",
   "execution_count": null,
   "id": "081da857",
   "metadata": {},
   "outputs": [],
   "source": []
  },
  {
   "cell_type": "code",
   "execution_count": null,
   "id": "faab4ec3",
   "metadata": {},
   "outputs": [],
   "source": []
  },
  {
   "cell_type": "markdown",
   "id": "18a69ea9",
   "metadata": {},
   "source": [
    "# Bivariate Analysis:"
   ]
  },
  {
   "cell_type": "code",
   "execution_count": 21,
   "id": "e7f53014",
   "metadata": {},
   "outputs": [
    {
     "data": {
      "text/plain": [
       "Index(['Unnamed: 0', 'TV', 'radio', 'newspaper', 'sales'], dtype='object')"
      ]
     },
     "execution_count": 21,
     "metadata": {},
     "output_type": "execute_result"
    }
   ],
   "source": [
    "df.columns"
   ]
  },
  {
   "cell_type": "code",
   "execution_count": 22,
   "id": "5e3b4198",
   "metadata": {},
   "outputs": [
    {
     "data": {
      "image/png": "[encoded data removed]",
      "text/plain": [
       "<Figure size 432x288 with 1 Axes>"
      ]
     },
     "metadata": {
      "needs_background": "light"
     },
     "output_type": "display_data"
    },
    {
     "data": {
      "image/png": "[encoded data removed]",
      "text/plain": [
       "<Figure size 432x288 with 1 Axes>"
      ]
     },
     "metadata": {
      "needs_background": "light"
     },
     "output_type": "display_data"
    }
   ],
   "source": [
    "col=['radio', 'newspaper', ]\n",
    "for i in col:\n",
    "\n",
    "    figure = plt.figure\n",
    "    ax = plt.gca()\n",
    "    sn.scatterplot(df[\"TV\"],df[i],hue=df[\"sales\"])\n",
    "    plt.legend()\n",
    "    plt.show()"
   ]
  },
  {
   "cell_type": "markdown",
   "id": "9ccfaf7e",
   "metadata": {},
   "source": [
    "sales increases with the increase in TV and radio   "
   ]
  },
  {
   "cell_type": "code",
   "execution_count": null,
   "id": "9d892110",
   "metadata": {},
   "outputs": [],
   "source": []
  },
  {
   "cell_type": "code",
   "execution_count": 23,
   "id": "b5680d1d",
   "metadata": {},
   "outputs": [
    {
     "data": {
      "image/png": "[encoded data removed]",
      "text/plain": [
       "<Figure size 432x288 with 1 Axes>"
      ]
     },
     "metadata": {
      "needs_background": "light"
     },
     "output_type": "display_data"
    }
   ],
   "source": [
    "col=[ 'newspaper', ]\n",
    "for i in col:\n",
    "\n",
    "    figure = plt.figure\n",
    "    ax = plt.gca()\n",
    "    sn.scatterplot(df[\"radio\"],df[i],hue=df[\"sales\"])\n",
    "    plt.legend()\n",
    "    plt.show()"
   ]
  },
  {
   "cell_type": "markdown",
   "id": "3c51c3a1",
   "metadata": {},
   "source": [
    "newspaper doesnt show any precise pattern"
   ]
  },
  {
   "cell_type": "code",
   "execution_count": null,
   "id": "69ede853",
   "metadata": {},
   "outputs": [],
   "source": []
  },
  {
   "cell_type": "code",
   "execution_count": null,
   "id": "ee84f6a5",
   "metadata": {},
   "outputs": [],
   "source": []
  },
  {
   "cell_type": "code",
   "execution_count": null,
   "id": "eeb2acd7",
   "metadata": {},
   "outputs": [],
   "source": []
  },
  {
   "cell_type": "markdown",
   "id": "f3e0febd",
   "metadata": {},
   "source": [
    "# Dropping unwanted columns:"
   ]
  },
  {
   "cell_type": "code",
   "execution_count": 24,
   "id": "1f12fe2f",
   "metadata": {},
   "outputs": [],
   "source": [
    "df=df.drop(\"Unnamed: 0\",axis=1)"
   ]
  },
  {
   "cell_type": "code",
   "execution_count": 25,
   "id": "209fdb11",
   "metadata": {},
   "outputs": [
    {
     "data": {
      "text/html": [
       "<div>\n",
       "<style scoped>\n",
       "    .dataframe tbody tr th:only-of-type {\n",
       "        vertical-align: middle;\n",
       "    }\n",
       "\n",
       "    .dataframe tbody tr th {\n",
       "        vertical-align: top;\n",
       "    }\n",
       "\n",
       "    .dataframe thead th {\n",
       "        text-align: right;\n",
       "    }\n",
       "</style>\n",
       "<table border=\"1\" class=\"dataframe\">\n",
       "  <thead>\n",
       "    <tr style=\"text-align: right;\">\n",
       "      <th></th>\n",
       "      <th>TV</th>\n",
       "      <th>radio</th>\n",
       "      <th>newspaper</th>\n",
       "      <th>sales</th>\n",
       "    </tr>\n",
       "  </thead>\n",
       "  <tbody>\n",
       "    <tr>\n",
       "      <th>0</th>\n",
       "      <td>230.1</td>\n",
       "      <td>37.8</td>\n",
       "      <td>69.2</td>\n",
       "      <td>22.1</td>\n",
       "    </tr>\n",
       "    <tr>\n",
       "      <th>1</th>\n",
       "      <td>44.5</td>\n",
       "      <td>39.3</td>\n",
       "      <td>45.1</td>\n",
       "      <td>10.4</td>\n",
       "    </tr>\n",
       "    <tr>\n",
       "      <th>2</th>\n",
       "      <td>17.2</td>\n",
       "      <td>45.9</td>\n",
       "      <td>69.3</td>\n",
       "      <td>9.3</td>\n",
       "    </tr>\n",
       "    <tr>\n",
       "      <th>3</th>\n",
       "      <td>151.5</td>\n",
       "      <td>41.3</td>\n",
       "      <td>58.5</td>\n",
       "      <td>18.5</td>\n",
       "    </tr>\n",
       "    <tr>\n",
       "      <th>4</th>\n",
       "      <td>180.8</td>\n",
       "      <td>10.8</td>\n",
       "      <td>58.4</td>\n",
       "      <td>12.9</td>\n",
       "    </tr>\n",
       "    <tr>\n",
       "      <th>...</th>\n",
       "      <td>...</td>\n",
       "      <td>...</td>\n",
       "      <td>...</td>\n",
       "      <td>...</td>\n",
       "    </tr>\n",
       "    <tr>\n",
       "      <th>195</th>\n",
       "      <td>38.2</td>\n",
       "      <td>3.7</td>\n",
       "      <td>13.8</td>\n",
       "      <td>7.6</td>\n",
       "    </tr>\n",
       "    <tr>\n",
       "      <th>196</th>\n",
       "      <td>94.2</td>\n",
       "      <td>4.9</td>\n",
       "      <td>8.1</td>\n",
       "      <td>9.7</td>\n",
       "    </tr>\n",
       "    <tr>\n",
       "      <th>197</th>\n",
       "      <td>177.0</td>\n",
       "      <td>9.3</td>\n",
       "      <td>6.4</td>\n",
       "      <td>12.8</td>\n",
       "    </tr>\n",
       "    <tr>\n",
       "      <th>198</th>\n",
       "      <td>283.6</td>\n",
       "      <td>42.0</td>\n",
       "      <td>66.2</td>\n",
       "      <td>25.5</td>\n",
       "    </tr>\n",
       "    <tr>\n",
       "      <th>199</th>\n",
       "      <td>232.1</td>\n",
       "      <td>8.6</td>\n",
       "      <td>8.7</td>\n",
       "      <td>13.4</td>\n",
       "    </tr>\n",
       "  </tbody>\n",
       "</table>\n",
       "<p>200 rows × 4 columns</p>\n",
       "</div>"
      ],
      "text/plain": [
       "        TV  radio  newspaper  sales\n",
       "0    230.1   37.8       69.2   22.1\n",
       "1     44.5   39.3       45.1   10.4\n",
       "2     17.2   45.9       69.3    9.3\n",
       "3    151.5   41.3       58.5   18.5\n",
       "4    180.8   10.8       58.4   12.9\n",
       "..     ...    ...        ...    ...\n",
       "195   38.2    3.7       13.8    7.6\n",
       "196   94.2    4.9        8.1    9.7\n",
       "197  177.0    9.3        6.4   12.8\n",
       "198  283.6   42.0       66.2   25.5\n",
       "199  232.1    8.6        8.7   13.4\n",
       "\n",
       "[200 rows x 4 columns]"
      ]
     },
     "execution_count": 25,
     "metadata": {},
     "output_type": "execute_result"
    }
   ],
   "source": [
    "df"
   ]
  },
  {
   "cell_type": "code",
   "execution_count": null,
   "id": "cb64d8fc",
   "metadata": {},
   "outputs": [],
   "source": []
  },
  {
   "cell_type": "code",
   "execution_count": null,
   "id": "75cb04ae",
   "metadata": {},
   "outputs": [],
   "source": []
  },
  {
   "cell_type": "markdown",
   "id": "2e45fac8",
   "metadata": {},
   "source": [
    "# Corelation:"
   ]
  },
  {
   "cell_type": "code",
   "execution_count": 26,
   "id": "245e34ec",
   "metadata": {},
   "outputs": [
    {
     "data": {
      "text/plain": [
       "<AxesSubplot:>"
      ]
     },
     "execution_count": 26,
     "metadata": {},
     "output_type": "execute_result"
    },
    {
     "data": {
      "image/png": "[encoded data removed]",
      "text/plain": [
       "<Figure size 432x288 with 2 Axes>"
      ]
     },
     "metadata": {
      "needs_background": "light"
     },
     "output_type": "display_data"
    }
   ],
   "source": [
    "cor=df.corr()\n",
    "sn.heatmap(cor,annot=True, linewidths=1,linecolor='green')"
   ]
  },
  {
   "cell_type": "code",
   "execution_count": null,
   "id": "b356dd8f",
   "metadata": {},
   "outputs": [],
   "source": []
  },
  {
   "cell_type": "code",
   "execution_count": null,
   "id": "7963491d",
   "metadata": {},
   "outputs": [],
   "source": []
  },
  {
   "cell_type": "code",
   "execution_count": 27,
   "id": "220bc72d",
   "metadata": {},
   "outputs": [
    {
     "data": {
      "text/plain": [
       "sales        1.000000\n",
       "TV           0.782224\n",
       "radio        0.576223\n",
       "newspaper    0.228299\n",
       "Name: sales, dtype: float64"
      ]
     },
     "execution_count": 27,
     "metadata": {},
     "output_type": "execute_result"
    }
   ],
   "source": [
    "cor_matrix=df.corr()\n",
    "cor_matrix[\"sales\"].sort_values(ascending=False)"
   ]
  },
  {
   "cell_type": "markdown",
   "id": "d6673ba9",
   "metadata": {},
   "source": [
    "newspaper has the least corelation with sales column"
   ]
  },
  {
   "cell_type": "code",
   "execution_count": null,
   "id": "6cacbed3",
   "metadata": {},
   "outputs": [],
   "source": []
  },
  {
   "cell_type": "code",
   "execution_count": null,
   "id": "d119719b",
   "metadata": {},
   "outputs": [],
   "source": []
  },
  {
   "cell_type": "markdown",
   "id": "53114282",
   "metadata": {},
   "source": [
    "# Outlier removal:"
   ]
  },
  {
   "cell_type": "markdown",
   "id": "f2b65350",
   "metadata": {},
   "source": [
    "Zscore:"
   ]
  },
  {
   "cell_type": "code",
   "execution_count": 28,
   "id": "b1adefaa",
   "metadata": {},
   "outputs": [],
   "source": [
    "from scipy.stats import zscore"
   ]
  },
  {
   "cell_type": "code",
   "execution_count": 29,
   "id": "7d497bc8",
   "metadata": {},
   "outputs": [],
   "source": [
    "z=np.abs(zscore(df))"
   ]
  },
  {
   "cell_type": "code",
   "execution_count": 30,
   "id": "67901e23",
   "metadata": {},
   "outputs": [],
   "source": [
    "z_df=df[(z<3).all(axis=1)]"
   ]
  },
  {
   "cell_type": "code",
   "execution_count": 35,
   "id": "abb52e1c",
   "metadata": {},
   "outputs": [
    {
     "data": {
      "text/plain": [
       "(198, 4)"
      ]
     },
     "execution_count": 35,
     "metadata": {},
     "output_type": "execute_result"
    }
   ],
   "source": [
    "z_df.shape"
   ]
  },
  {
   "cell_type": "code",
   "execution_count": 34,
   "id": "f0b0c976",
   "metadata": {},
   "outputs": [
    {
     "data": {
      "text/plain": [
       "(200, 4)"
      ]
     },
     "execution_count": 34,
     "metadata": {},
     "output_type": "execute_result"
    }
   ],
   "source": [
    "df.shape"
   ]
  },
  {
   "cell_type": "code",
   "execution_count": 33,
   "id": "df4fc5a2",
   "metadata": {},
   "outputs": [
    {
     "data": {
      "text/plain": [
       "1.0000000000000009"
      ]
     },
     "execution_count": 33,
     "metadata": {},
     "output_type": "execute_result"
    }
   ],
   "source": [
    "(1-(198/200))*100"
   ]
  },
  {
   "cell_type": "markdown",
   "id": "ff0d5185",
   "metadata": {},
   "source": [
    "The data loss is 1 percent"
   ]
  },
  {
   "cell_type": "code",
   "execution_count": 36,
   "id": "f461c2df",
   "metadata": {},
   "outputs": [],
   "source": [
    "new_df=z_df"
   ]
  },
  {
   "cell_type": "code",
   "execution_count": 37,
   "id": "95493ef0",
   "metadata": {},
   "outputs": [
    {
     "data": {
      "text/html": [
       "<div>\n",
       "<style scoped>\n",
       "    .dataframe tbody tr th:only-of-type {\n",
       "        vertical-align: middle;\n",
       "    }\n",
       "\n",
       "    .dataframe tbody tr th {\n",
       "        vertical-align: top;\n",
       "    }\n",
       "\n",
       "    .dataframe thead th {\n",
       "        text-align: right;\n",
       "    }\n",
       "</style>\n",
       "<table border=\"1\" class=\"dataframe\">\n",
       "  <thead>\n",
       "    <tr style=\"text-align: right;\">\n",
       "      <th></th>\n",
       "      <th>TV</th>\n",
       "      <th>radio</th>\n",
       "      <th>newspaper</th>\n",
       "      <th>sales</th>\n",
       "    </tr>\n",
       "  </thead>\n",
       "  <tbody>\n",
       "    <tr>\n",
       "      <th>count</th>\n",
       "      <td>198.000000</td>\n",
       "      <td>198.000000</td>\n",
       "      <td>198.000000</td>\n",
       "      <td>198.000000</td>\n",
       "    </tr>\n",
       "    <tr>\n",
       "      <th>mean</th>\n",
       "      <td>146.688384</td>\n",
       "      <td>23.130808</td>\n",
       "      <td>29.777273</td>\n",
       "      <td>13.980808</td>\n",
       "    </tr>\n",
       "    <tr>\n",
       "      <th>std</th>\n",
       "      <td>85.443221</td>\n",
       "      <td>14.862111</td>\n",
       "      <td>20.446303</td>\n",
       "      <td>5.196097</td>\n",
       "    </tr>\n",
       "    <tr>\n",
       "      <th>min</th>\n",
       "      <td>0.700000</td>\n",
       "      <td>0.000000</td>\n",
       "      <td>0.300000</td>\n",
       "      <td>1.600000</td>\n",
       "    </tr>\n",
       "    <tr>\n",
       "      <th>25%</th>\n",
       "      <td>74.800000</td>\n",
       "      <td>9.925000</td>\n",
       "      <td>12.650000</td>\n",
       "      <td>10.325000</td>\n",
       "    </tr>\n",
       "    <tr>\n",
       "      <th>50%</th>\n",
       "      <td>149.750000</td>\n",
       "      <td>22.400000</td>\n",
       "      <td>25.600000</td>\n",
       "      <td>12.900000</td>\n",
       "    </tr>\n",
       "    <tr>\n",
       "      <th>75%</th>\n",
       "      <td>218.475000</td>\n",
       "      <td>36.325000</td>\n",
       "      <td>44.050000</td>\n",
       "      <td>17.375000</td>\n",
       "    </tr>\n",
       "    <tr>\n",
       "      <th>max</th>\n",
       "      <td>293.600000</td>\n",
       "      <td>49.600000</td>\n",
       "      <td>89.400000</td>\n",
       "      <td>27.000000</td>\n",
       "    </tr>\n",
       "  </tbody>\n",
       "</table>\n",
       "</div>"
      ],
      "text/plain": [
       "               TV       radio   newspaper       sales\n",
       "count  198.000000  198.000000  198.000000  198.000000\n",
       "mean   146.688384   23.130808   29.777273   13.980808\n",
       "std     85.443221   14.862111   20.446303    5.196097\n",
       "min      0.700000    0.000000    0.300000    1.600000\n",
       "25%     74.800000    9.925000   12.650000   10.325000\n",
       "50%    149.750000   22.400000   25.600000   12.900000\n",
       "75%    218.475000   36.325000   44.050000   17.375000\n",
       "max    293.600000   49.600000   89.400000   27.000000"
      ]
     },
     "execution_count": 37,
     "metadata": {},
     "output_type": "execute_result"
    }
   ],
   "source": [
    "new_df.describe()"
   ]
  },
  {
   "cell_type": "code",
   "execution_count": null,
   "id": "9f1d8823",
   "metadata": {},
   "outputs": [],
   "source": []
  },
  {
   "cell_type": "code",
   "execution_count": null,
   "id": "cdeb21c4",
   "metadata": {},
   "outputs": [],
   "source": []
  },
  {
   "cell_type": "code",
   "execution_count": null,
   "id": "5905a49d",
   "metadata": {},
   "outputs": [],
   "source": []
  },
  {
   "cell_type": "markdown",
   "id": "42a127bb",
   "metadata": {},
   "source": [
    "# Skewness:"
   ]
  },
  {
   "cell_type": "code",
   "execution_count": 38,
   "id": "23921534",
   "metadata": {},
   "outputs": [
    {
     "data": {
      "text/plain": [
       "TV          -0.082332\n",
       "radio        0.114842\n",
       "newspaper    0.650112\n",
       "sales        0.407130\n",
       "dtype: float64"
      ]
     },
     "execution_count": 38,
     "metadata": {},
     "output_type": "execute_result"
    }
   ],
   "source": [
    "new_df.skew()"
   ]
  },
  {
   "cell_type": "markdown",
   "id": "44fcb5b6",
   "metadata": {},
   "source": [
    "Need to apply skewness transformation on newspaper"
   ]
  },
  {
   "cell_type": "code",
   "execution_count": null,
   "id": "162d8fc4",
   "metadata": {},
   "outputs": [],
   "source": []
  },
  {
   "cell_type": "code",
   "execution_count": 40,
   "id": "d5961145",
   "metadata": {},
   "outputs": [
    {
     "data": {
      "text/plain": [
       "-1.2218015871925096"
      ]
     },
     "execution_count": 40,
     "metadata": {},
     "output_type": "execute_result"
    }
   ],
   "source": [
    "np.log(new_df[\"newspaper\"]).skew()"
   ]
  },
  {
   "cell_type": "code",
   "execution_count": 41,
   "id": "342f83b3",
   "metadata": {},
   "outputs": [
    {
     "data": {
      "text/plain": [
       "-0.040649472621842535"
      ]
     },
     "execution_count": 41,
     "metadata": {},
     "output_type": "execute_result"
    }
   ],
   "source": [
    "np.sqrt(new_df[\"newspaper\"]).skew()"
   ]
  },
  {
   "cell_type": "code",
   "execution_count": null,
   "id": "ca50b180",
   "metadata": {},
   "outputs": [],
   "source": []
  },
  {
   "cell_type": "code",
   "execution_count": 44,
   "id": "7080e1d6",
   "metadata": {},
   "outputs": [],
   "source": [
    "new_df[\"newspaper\"]=np.sqrt(new_df[\"newspaper\"])"
   ]
  },
  {
   "cell_type": "code",
   "execution_count": null,
   "id": "36a85142",
   "metadata": {},
   "outputs": [],
   "source": []
  },
  {
   "cell_type": "code",
   "execution_count": null,
   "id": "9c90f0be",
   "metadata": {},
   "outputs": [],
   "source": []
  },
  {
   "cell_type": "code",
   "execution_count": 45,
   "id": "847e4eb6",
   "metadata": {},
   "outputs": [
    {
     "data": {
      "text/plain": [
       "TV          -0.082332\n",
       "radio        0.114842\n",
       "newspaper   -0.040649\n",
       "sales        0.407130\n",
       "dtype: float64"
      ]
     },
     "execution_count": 45,
     "metadata": {},
     "output_type": "execute_result"
    }
   ],
   "source": [
    "new_df.skew()"
   ]
  },
  {
   "cell_type": "code",
   "execution_count": null,
   "id": "9906bf44",
   "metadata": {},
   "outputs": [],
   "source": []
  },
  {
   "cell_type": "code",
   "execution_count": null,
   "id": "b9d555ee",
   "metadata": {},
   "outputs": [],
   "source": []
  },
  {
   "cell_type": "code",
   "execution_count": null,
   "id": "3997f767",
   "metadata": {},
   "outputs": [],
   "source": []
  },
  {
   "cell_type": "markdown",
   "id": "6f1b53f2",
   "metadata": {},
   "source": [
    "# Separating Target and Independent variables:"
   ]
  },
  {
   "cell_type": "code",
   "execution_count": 46,
   "id": "ad33d8d9",
   "metadata": {},
   "outputs": [],
   "source": [
    "x=new_df.drop([\"sales\"],axis=1)\n",
    "y=new_df[\"sales\"]"
   ]
  },
  {
   "cell_type": "code",
   "execution_count": null,
   "id": "a1fa2231",
   "metadata": {},
   "outputs": [],
   "source": []
  },
  {
   "cell_type": "code",
   "execution_count": null,
   "id": "28db25cd",
   "metadata": {},
   "outputs": [],
   "source": []
  },
  {
   "cell_type": "markdown",
   "id": "31c13b3b",
   "metadata": {},
   "source": [
    "# Best Random State:"
   ]
  },
  {
   "cell_type": "code",
   "execution_count": 47,
   "id": "1f6a3b91",
   "metadata": {},
   "outputs": [],
   "source": [
    "from sklearn.model_selection import train_test_split\n",
    "from sklearn.metrics import r2_score\n",
    "from sklearn.linear_model import LinearRegression"
   ]
  },
  {
   "cell_type": "code",
   "execution_count": 48,
   "id": "7079e688",
   "metadata": {},
   "outputs": [
    {
     "name": "stdout",
     "output_type": "stream",
     "text": [
      "At Random state 0, the training accuracy is: 0.8859171852526361\n",
      "At Random state 0, the testing accuracy is: 0.9085766754449166\n",
      "\n",
      "\n",
      "At Random state 1, the training accuracy is: 0.8858771150754233\n",
      "At Random state 1, the testing accuracy is: 0.9060846743226347\n",
      "\n",
      "\n",
      "At Random state 2, the training accuracy is: 0.9137931964481858\n",
      "At Random state 2, the testing accuracy is: 0.858390209570677\n",
      "\n",
      "\n",
      "At Random state 3, the training accuracy is: 0.9022418129548119\n",
      "At Random state 3, the testing accuracy is: 0.881151099362858\n",
      "\n",
      "\n",
      "At Random state 4, the training accuracy is: 0.9001356560735017\n",
      "At Random state 4, the testing accuracy is: 0.8721501634616875\n",
      "\n",
      "\n",
      "At Random state 5, the training accuracy is: 0.8958773120025212\n",
      "At Random state 5, the testing accuracy is: 0.8876772944866962\n",
      "\n",
      "\n",
      "At Random state 6, the training accuracy is: 0.9017970617509014\n",
      "At Random state 6, the testing accuracy is: 0.8795336830790139\n",
      "\n",
      "\n",
      "At Random state 7, the training accuracy is: 0.892384696390841\n",
      "At Random state 7, the testing accuracy is: 0.8993626950454157\n",
      "\n",
      "\n",
      "At Random state 8, the training accuracy is: 0.902161662569504\n",
      "At Random state 8, the testing accuracy is: 0.8732410573115275\n",
      "\n",
      "\n",
      "At Random state 9, the training accuracy is: 0.8795198733799175\n",
      "At Random state 9, the testing accuracy is: 0.9212577412941672\n",
      "\n",
      "\n",
      "At Random state 10, the training accuracy is: 0.9238019178213818\n",
      "At Random state 10, the testing accuracy is: 0.8282833639695235\n",
      "\n",
      "\n",
      "At Random state 11, the training accuracy is: 0.8944513850375939\n",
      "At Random state 11, the testing accuracy is: 0.8829490021760468\n",
      "\n",
      "\n",
      "At Random state 12, the training accuracy is: 0.8972465218282171\n",
      "At Random state 12, the testing accuracy is: 0.8895173843755935\n",
      "\n",
      "\n",
      "At Random state 13, the training accuracy is: 0.9034935064227293\n",
      "At Random state 13, the testing accuracy is: 0.8715401304923547\n",
      "\n",
      "\n",
      "At Random state 14, the training accuracy is: 0.885688122780281\n",
      "At Random state 14, the testing accuracy is: 0.9048722628540347\n",
      "\n",
      "\n",
      "At Random state 15, the training accuracy is: 0.8986733417966529\n",
      "At Random state 15, the testing accuracy is: 0.8758034000162044\n",
      "\n",
      "\n",
      "At Random state 16, the training accuracy is: 0.8970379046450065\n",
      "At Random state 16, the testing accuracy is: 0.8877035347381206\n",
      "\n",
      "\n",
      "At Random state 17, the training accuracy is: 0.885273206044952\n",
      "At Random state 17, the testing accuracy is: 0.9113293753254649\n",
      "\n",
      "\n",
      "At Random state 18, the training accuracy is: 0.9140402843108122\n",
      "At Random state 18, the testing accuracy is: 0.8497548524558647\n",
      "\n",
      "\n",
      "At Random state 19, the training accuracy is: 0.8898413106924188\n",
      "At Random state 19, the testing accuracy is: 0.902190447457835\n",
      "\n",
      "\n",
      "At Random state 20, the training accuracy is: 0.9072589513964973\n",
      "At Random state 20, the testing accuracy is: 0.8721254445472923\n",
      "\n",
      "\n",
      "At Random state 21, the training accuracy is: 0.8849502848525328\n",
      "At Random state 21, the testing accuracy is: 0.914839874386335\n",
      "\n",
      "\n",
      "At Random state 22, the training accuracy is: 0.893461353227486\n",
      "At Random state 22, the testing accuracy is: 0.8912809692889063\n",
      "\n",
      "\n",
      "At Random state 23, the training accuracy is: 0.8871684402360477\n",
      "At Random state 23, the testing accuracy is: 0.9124653176392531\n",
      "\n",
      "\n",
      "At Random state 24, the training accuracy is: 0.8829210508918531\n",
      "At Random state 24, the testing accuracy is: 0.9184381558595193\n",
      "\n",
      "\n",
      "At Random state 25, the training accuracy is: 0.8902943099206658\n",
      "At Random state 25, the testing accuracy is: 0.9052756293271941\n",
      "\n",
      "\n",
      "At Random state 26, the training accuracy is: 0.9077707954432881\n",
      "At Random state 26, the testing accuracy is: 0.8446005199467247\n",
      "\n",
      "\n",
      "At Random state 27, the training accuracy is: 0.9090206682725082\n",
      "At Random state 27, the testing accuracy is: 0.8490139412705566\n",
      "\n",
      "\n",
      "At Random state 28, the training accuracy is: 0.9138373423773742\n",
      "At Random state 28, the testing accuracy is: 0.8446008160397739\n",
      "\n",
      "\n",
      "At Random state 29, the training accuracy is: 0.9044933314568286\n",
      "At Random state 29, the testing accuracy is: 0.8690780269160415\n",
      "\n",
      "\n",
      "At Random state 30, the training accuracy is: 0.9113861047059768\n",
      "At Random state 30, the testing accuracy is: 0.8559870534065401\n",
      "\n",
      "\n",
      "At Random state 31, the training accuracy is: 0.8825754088747114\n",
      "At Random state 31, the testing accuracy is: 0.9139376238918723\n",
      "\n",
      "\n",
      "At Random state 32, the training accuracy is: 0.8880745042712219\n",
      "At Random state 32, the testing accuracy is: 0.9078310053687235\n",
      "\n",
      "\n",
      "At Random state 33, the training accuracy is: 0.8875924290064993\n",
      "At Random state 33, the testing accuracy is: 0.9054254902665232\n",
      "\n",
      "\n",
      "At Random state 34, the training accuracy is: 0.9037235656304067\n",
      "At Random state 34, the testing accuracy is: 0.8740429513509216\n",
      "\n",
      "\n",
      "At Random state 35, the training accuracy is: 0.8838333375026448\n",
      "At Random state 35, the testing accuracy is: 0.9185886497280612\n",
      "\n",
      "\n",
      "At Random state 36, the training accuracy is: 0.876950559934247\n",
      "At Random state 36, the testing accuracy is: 0.9263561719885443\n",
      "\n",
      "\n",
      "At Random state 37, the training accuracy is: 0.8907918038037319\n",
      "At Random state 37, the testing accuracy is: 0.9077816806196997\n",
      "\n",
      "\n",
      "At Random state 38, the training accuracy is: 0.8974071812910376\n",
      "At Random state 38, the testing accuracy is: 0.8849551615413581\n",
      "\n",
      "\n",
      "At Random state 39, the training accuracy is: 0.9210611535699682\n",
      "At Random state 39, the testing accuracy is: 0.838283758164489\n",
      "\n",
      "\n",
      "At Random state 40, the training accuracy is: 0.8944676003844133\n",
      "At Random state 40, the testing accuracy is: 0.8921247755320298\n",
      "\n",
      "\n",
      "At Random state 41, the training accuracy is: 0.8933105652578597\n",
      "At Random state 41, the testing accuracy is: 0.8936138602078856\n",
      "\n",
      "\n",
      "At Random state 42, the training accuracy is: 0.8956000020017647\n",
      "At Random state 42, the testing accuracy is: 0.8840299411846964\n",
      "\n",
      "\n",
      "At Random state 43, the training accuracy is: 0.9092112869654646\n",
      "At Random state 43, the testing accuracy is: 0.8623801045466388\n",
      "\n",
      "\n",
      "At Random state 44, the training accuracy is: 0.9067394415100989\n",
      "At Random state 44, the testing accuracy is: 0.8230121713322688\n",
      "\n",
      "\n",
      "At Random state 45, the training accuracy is: 0.8849395247944365\n",
      "At Random state 45, the testing accuracy is: 0.9143892495107865\n",
      "\n",
      "\n",
      "At Random state 46, the training accuracy is: 0.8924071007917568\n",
      "At Random state 46, the testing accuracy is: 0.8994904595093409\n",
      "\n",
      "\n",
      "At Random state 47, the training accuracy is: 0.8987168734715861\n",
      "At Random state 47, the testing accuracy is: 0.8820116761934519\n",
      "\n",
      "\n",
      "At Random state 48, the training accuracy is: 0.9123907867411857\n",
      "At Random state 48, the testing accuracy is: 0.8448835559641378\n",
      "\n",
      "\n",
      "At Random state 49, the training accuracy is: 0.9075534574988534\n",
      "At Random state 49, the testing accuracy is: 0.865958684365388\n",
      "\n",
      "\n",
      "At Random state 50, the training accuracy is: 0.9020207196442966\n",
      "At Random state 50, the testing accuracy is: 0.8645836254340519\n",
      "\n",
      "\n",
      "At Random state 51, the training accuracy is: 0.8931591194413441\n",
      "At Random state 51, the testing accuracy is: 0.8926399162265253\n",
      "\n",
      "\n",
      "At Random state 52, the training accuracy is: 0.8922160884819386\n",
      "At Random state 52, the testing accuracy is: 0.8932024284185889\n",
      "\n",
      "\n",
      "At Random state 53, the training accuracy is: 0.9104496726469334\n",
      "At Random state 53, the testing accuracy is: 0.8595784360893958\n",
      "\n",
      "\n",
      "At Random state 54, the training accuracy is: 0.8983223783408122\n",
      "At Random state 54, the testing accuracy is: 0.8865651605614975\n",
      "\n",
      "\n",
      "At Random state 55, the training accuracy is: 0.888907547134286\n",
      "At Random state 55, the testing accuracy is: 0.905594972590936\n",
      "\n",
      "\n",
      "At Random state 56, the training accuracy is: 0.9010921007102655\n",
      "At Random state 56, the testing accuracy is: 0.8737211507894269\n",
      "\n",
      "\n",
      "At Random state 57, the training accuracy is: 0.9101318590457345\n",
      "At Random state 57, the testing accuracy is: 0.8607556596093034\n",
      "\n",
      "\n",
      "At Random state 58, the training accuracy is: 0.8884964877977893\n",
      "At Random state 58, the testing accuracy is: 0.9079217479816694\n",
      "\n",
      "\n",
      "At Random state 59, the training accuracy is: 0.8839497660996238\n",
      "At Random state 59, the testing accuracy is: 0.9208655157367698\n",
      "\n",
      "\n",
      "At Random state 60, the training accuracy is: 0.890280820599832\n",
      "At Random state 60, the testing accuracy is: 0.8957687668795506\n",
      "\n",
      "\n",
      "At Random state 61, the training accuracy is: 0.9074736098095746\n",
      "At Random state 61, the testing accuracy is: 0.8619366204352321\n",
      "\n",
      "\n",
      "At Random state 62, the training accuracy is: 0.9040469072564141\n",
      "At Random state 62, the testing accuracy is: 0.8585454257141464\n",
      "\n",
      "\n",
      "At Random state 63, the training accuracy is: 0.8976664417096242\n",
      "At Random state 63, the testing accuracy is: 0.8820018967656127\n",
      "\n",
      "\n",
      "At Random state 64, the training accuracy is: 0.8898104579645417\n",
      "At Random state 64, the testing accuracy is: 0.9063874423849939\n",
      "\n",
      "\n",
      "At Random state 65, the training accuracy is: 0.8988100245331365\n",
      "At Random state 65, the testing accuracy is: 0.8856680313503806\n",
      "\n",
      "\n",
      "At Random state 66, the training accuracy is: 0.9092054488789043\n",
      "At Random state 66, the testing accuracy is: 0.8612632077948368\n",
      "\n",
      "\n",
      "At Random state 67, the training accuracy is: 0.9129995658318824\n",
      "At Random state 67, the testing accuracy is: 0.8389042585648657\n",
      "\n",
      "\n",
      "At Random state 68, the training accuracy is: 0.9096637518913362\n",
      "At Random state 68, the testing accuracy is: 0.8504259626517494\n",
      "\n",
      "\n",
      "At Random state 69, the training accuracy is: 0.8876563006508683\n",
      "At Random state 69, the testing accuracy is: 0.9106455800261293\n",
      "\n",
      "\n",
      "At Random state 70, the training accuracy is: 0.879507735278511\n",
      "At Random state 70, the testing accuracy is: 0.9188971959460331\n",
      "\n",
      "\n",
      "At Random state 71, the training accuracy is: 0.9034639318716247\n",
      "At Random state 71, the testing accuracy is: 0.8671370972990807\n",
      "\n",
      "\n",
      "At Random state 72, the training accuracy is: 0.8942510272901435\n",
      "At Random state 72, the testing accuracy is: 0.8876346579976682\n",
      "\n",
      "\n",
      "At Random state 73, the training accuracy is: 0.9068210946869252\n",
      "At Random state 73, the testing accuracy is: 0.8526957385916223\n",
      "\n",
      "\n",
      "At Random state 74, the training accuracy is: 0.8766103355052268\n",
      "At Random state 74, the testing accuracy is: 0.9172725916637298\n",
      "\n",
      "\n",
      "At Random state 75, the training accuracy is: 0.8939372730295368\n",
      "At Random state 75, the testing accuracy is: 0.8847601478800126\n",
      "\n",
      "\n",
      "At Random state 76, the training accuracy is: 0.9087651677431962\n",
      "At Random state 76, the testing accuracy is: 0.852724242059047\n",
      "\n",
      "\n",
      "At Random state 77, the training accuracy is: 0.897424538822104\n",
      "At Random state 77, the testing accuracy is: 0.8860653876312914\n",
      "\n",
      "\n",
      "At Random state 78, the training accuracy is: 0.9169146030821941\n",
      "At Random state 78, the testing accuracy is: 0.7976191339453449\n",
      "\n",
      "\n",
      "At Random state 79, the training accuracy is: 0.8919298544063196\n",
      "At Random state 79, the testing accuracy is: 0.8908024961716865\n",
      "\n",
      "\n",
      "At Random state 80, the training accuracy is: 0.9101184970605937\n",
      "At Random state 80, the testing accuracy is: 0.8542836234139939\n",
      "\n",
      "\n",
      "At Random state 81, the training accuracy is: 0.8860387118220189\n",
      "At Random state 81, the testing accuracy is: 0.9154355503572018\n",
      "\n",
      "\n",
      "At Random state 82, the training accuracy is: 0.9134399431206579\n",
      "At Random state 82, the testing accuracy is: 0.8321409910867259\n",
      "\n",
      "\n",
      "At Random state 83, the training accuracy is: 0.8977131695651426\n",
      "At Random state 83, the testing accuracy is: 0.8884059971456737\n",
      "\n",
      "\n",
      "At Random state 84, the training accuracy is: 0.8773992027034444\n",
      "At Random state 84, the testing accuracy is: 0.9308894884907566\n",
      "\n",
      "\n",
      "At Random state 85, the training accuracy is: 0.917686657978734\n",
      "At Random state 85, the testing accuracy is: 0.7962294390374796\n",
      "\n",
      "\n",
      "At Random state 86, the training accuracy is: 0.8916757713125738\n",
      "At Random state 86, the testing accuracy is: 0.8977429051406858\n",
      "\n",
      "\n",
      "At Random state 87, the training accuracy is: 0.9064799852175105\n",
      "At Random state 87, the testing accuracy is: 0.8659430360835877\n",
      "\n",
      "\n",
      "At Random state 88, the training accuracy is: 0.8896253182726939\n",
      "At Random state 88, the testing accuracy is: 0.9090823739718848\n",
      "\n",
      "\n",
      "At Random state 89, the training accuracy is: 0.9020629878460555\n",
      "At Random state 89, the testing accuracy is: 0.8744926160313519\n",
      "\n",
      "\n",
      "At Random state 90, the training accuracy is: 0.8784621423597886\n",
      "At Random state 90, the testing accuracy is: 0.9359870808019579\n",
      "\n",
      "\n",
      "At Random state 91, the training accuracy is: 0.900594746950021\n",
      "At Random state 91, the testing accuracy is: 0.8611853106959582\n",
      "\n",
      "\n",
      "At Random state 92, the training accuracy is: 0.8853693207352218\n",
      "At Random state 92, the testing accuracy is: 0.9039819976219512\n",
      "\n",
      "\n",
      "At Random state 93, the training accuracy is: 0.9044089791095353\n",
      "At Random state 93, the testing accuracy is: 0.8695608905858514\n",
      "\n",
      "\n",
      "At Random state 94, the training accuracy is: 0.9048038632954057\n",
      "At Random state 94, the testing accuracy is: 0.8756038510653248\n",
      "\n",
      "\n",
      "At Random state 95, the training accuracy is: 0.9014126308612519\n",
      "At Random state 95, the testing accuracy is: 0.868270505512052\n",
      "\n",
      "\n",
      "At Random state 96, the training accuracy is: 0.8968114469120141\n",
      "At Random state 96, the testing accuracy is: 0.8886228942823405\n",
      "\n",
      "\n",
      "At Random state 97, the training accuracy is: 0.8965961874003008\n",
      "At Random state 97, the testing accuracy is: 0.8857450777155816\n",
      "\n",
      "\n",
      "At Random state 98, the training accuracy is: 0.9125022756927509\n",
      "At Random state 98, the testing accuracy is: 0.8490292769650171\n",
      "\n",
      "\n",
      "At Random state 99, the training accuracy is: 0.8848591920391062\n",
      "At Random state 99, the testing accuracy is: 0.9149451408764805\n",
      "\n",
      "\n",
      "At Random state 100, the training accuracy is: 0.9055304305243522\n",
      "At Random state 100, the testing accuracy is: 0.862473708148378\n",
      "\n",
      "\n",
      "At Random state 101, the training accuracy is: 0.8924531860637569\n",
      "At Random state 101, the testing accuracy is: 0.8960315801564602\n",
      "\n",
      "\n",
      "At Random state 102, the training accuracy is: 0.88599832788342\n",
      "At Random state 102, the testing accuracy is: 0.9104151688843921\n",
      "\n",
      "\n",
      "At Random state 103, the training accuracy is: 0.8975277669422654\n",
      "At Random state 103, the testing accuracy is: 0.8868212659626127\n",
      "\n",
      "\n",
      "At Random state 104, the training accuracy is: 0.9120854040593864\n",
      "At Random state 104, the testing accuracy is: 0.8571856947430977\n",
      "\n",
      "\n",
      "At Random state 105, the training accuracy is: 0.9062975688155059\n",
      "At Random state 105, the testing accuracy is: 0.8442591140518745\n",
      "\n",
      "\n",
      "At Random state 106, the training accuracy is: 0.892038316200406\n",
      "At Random state 106, the testing accuracy is: 0.9018477534574881\n",
      "\n",
      "\n",
      "At Random state 107, the training accuracy is: 0.9132128763156921\n",
      "At Random state 107, the testing accuracy is: 0.8568719873795023\n",
      "\n",
      "\n",
      "At Random state 108, the training accuracy is: 0.9163787511899947\n",
      "At Random state 108, the testing accuracy is: 0.8324683563536438\n",
      "\n",
      "\n",
      "At Random state 109, the training accuracy is: 0.8964433130294459\n",
      "At Random state 109, the testing accuracy is: 0.8845230512852797\n",
      "\n",
      "\n",
      "At Random state 110, the training accuracy is: 0.8858252339846617\n",
      "At Random state 110, the testing accuracy is: 0.9137191811891804\n",
      "\n",
      "\n",
      "At Random state 111, the training accuracy is: 0.9034428580634889\n",
      "At Random state 111, the testing accuracy is: 0.8731541016442105\n",
      "\n",
      "\n",
      "At Random state 112, the training accuracy is: 0.8819617615945361\n",
      "At Random state 112, the testing accuracy is: 0.9110758217207517\n",
      "\n",
      "\n",
      "At Random state 113, the training accuracy is: 0.9152615303615135\n",
      "At Random state 113, the testing accuracy is: 0.839706547939105\n",
      "\n",
      "\n",
      "At Random state 114, the training accuracy is: 0.8776507137976629\n",
      "At Random state 114, the testing accuracy is: 0.927250262228772\n",
      "\n",
      "\n",
      "At Random state 115, the training accuracy is: 0.8792990970695608\n",
      "At Random state 115, the testing accuracy is: 0.9260446506953403\n",
      "\n",
      "\n",
      "At Random state 116, the training accuracy is: 0.9139107374915737\n",
      "At Random state 116, the testing accuracy is: 0.8416796705348217\n",
      "\n",
      "\n",
      "At Random state 117, the training accuracy is: 0.8897423177780092\n",
      "At Random state 117, the testing accuracy is: 0.9022162152149542\n",
      "\n",
      "\n",
      "At Random state 118, the training accuracy is: 0.8893308874783441\n",
      "At Random state 118, the testing accuracy is: 0.9046092026995328\n",
      "\n",
      "\n",
      "At Random state 119, the training accuracy is: 0.9072519429085752\n",
      "At Random state 119, the testing accuracy is: 0.8695310439201874\n",
      "\n",
      "\n",
      "At Random state 120, the training accuracy is: 0.899407498159894\n",
      "At Random state 120, the testing accuracy is: 0.8827905153349406\n",
      "\n",
      "\n",
      "At Random state 121, the training accuracy is: 0.9185118468899649\n",
      "At Random state 121, the testing accuracy is: 0.8215990383911286\n",
      "\n",
      "\n",
      "At Random state 122, the training accuracy is: 0.8930115799514428\n",
      "At Random state 122, the testing accuracy is: 0.8995369465093191\n",
      "\n",
      "\n",
      "At Random state 123, the training accuracy is: 0.9114396286532501\n",
      "At Random state 123, the testing accuracy is: 0.8374769121600948\n",
      "\n",
      "\n",
      "At Random state 124, the training accuracy is: 0.8944218225404428\n",
      "At Random state 124, the testing accuracy is: 0.8945061592374143\n",
      "\n",
      "\n",
      "At Random state 125, the training accuracy is: 0.894198409076192\n",
      "At Random state 125, the testing accuracy is: 0.8867495125546218\n",
      "\n",
      "\n",
      "At Random state 126, the training accuracy is: 0.9120170907259111\n",
      "At Random state 126, the testing accuracy is: 0.8475845135560558\n",
      "\n",
      "\n",
      "At Random state 127, the training accuracy is: 0.8941385436653265\n",
      "At Random state 127, the testing accuracy is: 0.8914570130956614\n",
      "\n",
      "\n",
      "At Random state 128, the training accuracy is: 0.912447949280785\n",
      "At Random state 128, the testing accuracy is: 0.852056594274574\n",
      "\n",
      "\n",
      "At Random state 129, the training accuracy is: 0.8928907552989765\n",
      "At Random state 129, the testing accuracy is: 0.9000117130005659\n",
      "\n",
      "\n",
      "At Random state 130, the training accuracy is: 0.8849066512239037\n",
      "At Random state 130, the testing accuracy is: 0.916719070960502\n",
      "\n",
      "\n",
      "At Random state 131, the training accuracy is: 0.891606726594457\n",
      "At Random state 131, the testing accuracy is: 0.8943816989770594\n",
      "\n",
      "\n",
      "At Random state 132, the training accuracy is: 0.8962172075897897\n",
      "At Random state 132, the testing accuracy is: 0.8908498332372912\n",
      "\n",
      "\n",
      "At Random state 133, the training accuracy is: 0.8974786586697051\n",
      "At Random state 133, the testing accuracy is: 0.8877667827902957\n",
      "\n",
      "\n",
      "At Random state 134, the training accuracy is: 0.8977618386423134\n",
      "At Random state 134, the testing accuracy is: 0.8891741225019525\n",
      "\n",
      "\n",
      "At Random state 135, the training accuracy is: 0.876041495564739\n",
      "At Random state 135, the testing accuracy is: 0.9161298908664715\n",
      "\n",
      "\n",
      "At Random state 136, the training accuracy is: 0.8926288846476398\n",
      "At Random state 136, the testing accuracy is: 0.8973144854833703\n",
      "\n",
      "\n",
      "At Random state 137, the training accuracy is: 0.8943347344002809\n",
      "At Random state 137, the testing accuracy is: 0.8958930286048173\n",
      "\n",
      "\n",
      "At Random state 138, the training accuracy is: 0.8907157539925358\n",
      "At Random state 138, the testing accuracy is: 0.9024744038462519\n",
      "\n",
      "\n",
      "At Random state 139, the training accuracy is: 0.8663668439235308\n",
      "At Random state 139, the testing accuracy is: 0.9311906547928641\n",
      "\n",
      "\n",
      "At Random state 140, the training accuracy is: 0.893617665515332\n",
      "At Random state 140, the testing accuracy is: 0.8959627018870239\n",
      "\n",
      "\n",
      "At Random state 141, the training accuracy is: 0.8891136511650237\n",
      "At Random state 141, the testing accuracy is: 0.9081189980614447\n",
      "\n",
      "\n",
      "At Random state 142, the training accuracy is: 0.8921058187655164\n",
      "At Random state 142, the testing accuracy is: 0.8993887763984396\n",
      "\n",
      "\n",
      "At Random state 143, the training accuracy is: 0.8826282862892413\n",
      "At Random state 143, the testing accuracy is: 0.9222355860224447\n",
      "\n",
      "\n",
      "At Random state 144, the training accuracy is: 0.8947421970116886\n",
      "At Random state 144, the testing accuracy is: 0.8871041458752635\n",
      "\n",
      "\n",
      "At Random state 145, the training accuracy is: 0.8919783267531178\n",
      "At Random state 145, the testing accuracy is: 0.8925021230429464\n",
      "\n",
      "\n",
      "At Random state 146, the training accuracy is: 0.8901005938629994\n",
      "At Random state 146, the testing accuracy is: 0.9076024173304473\n",
      "\n",
      "\n",
      "At Random state 147, the training accuracy is: 0.8980802249067222\n",
      "At Random state 147, the testing accuracy is: 0.8814247126028479\n",
      "\n",
      "\n",
      "At Random state 148, the training accuracy is: 0.9116547568474268\n",
      "At Random state 148, the testing accuracy is: 0.8552709963569093\n",
      "\n",
      "\n",
      "At Random state 149, the training accuracy is: 0.919281291709753\n",
      "At Random state 149, the testing accuracy is: 0.8256016654086732\n",
      "\n",
      "\n",
      "At Random state 150, the training accuracy is: 0.8779221298598636\n",
      "At Random state 150, the testing accuracy is: 0.931312473771684\n",
      "\n",
      "\n",
      "At Random state 151, the training accuracy is: 0.8830607278539849\n",
      "At Random state 151, the testing accuracy is: 0.91719239896407\n",
      "\n",
      "\n",
      "At Random state 152, the training accuracy is: 0.8904564363563949\n",
      "At Random state 152, the testing accuracy is: 0.9064701163190195\n",
      "\n",
      "\n",
      "At Random state 153, the training accuracy is: 0.9228159664061998\n",
      "At Random state 153, the testing accuracy is: 0.820311505168335\n",
      "\n",
      "\n",
      "At Random state 154, the training accuracy is: 0.8893680633690887\n",
      "At Random state 154, the testing accuracy is: 0.9077145456017434\n",
      "\n",
      "\n",
      "At Random state 155, the training accuracy is: 0.8960457598002313\n",
      "At Random state 155, the testing accuracy is: 0.8902566731198465\n",
      "\n",
      "\n",
      "At Random state 156, the training accuracy is: 0.8812361514526857\n",
      "At Random state 156, the testing accuracy is: 0.9194759285492681\n",
      "\n",
      "\n",
      "At Random state 157, the training accuracy is: 0.8980247092437117\n",
      "At Random state 157, the testing accuracy is: 0.8844036361430108\n",
      "\n",
      "\n",
      "At Random state 158, the training accuracy is: 0.8933064341544453\n",
      "At Random state 158, the testing accuracy is: 0.8951056131222132\n",
      "\n",
      "\n",
      "At Random state 159, the training accuracy is: 0.9147890112226071\n",
      "At Random state 159, the testing accuracy is: 0.8300832620438396\n",
      "\n",
      "\n",
      "At Random state 160, the training accuracy is: 0.8884020556185724\n",
      "At Random state 160, the testing accuracy is: 0.9077881821585743\n",
      "\n",
      "\n",
      "At Random state 161, the training accuracy is: 0.8850934477074772\n",
      "At Random state 161, the testing accuracy is: 0.91734773194124\n",
      "\n",
      "\n",
      "At Random state 162, the training accuracy is: 0.8997264855841358\n",
      "At Random state 162, the testing accuracy is: 0.8820578901373972\n",
      "\n",
      "\n",
      "At Random state 163, the training accuracy is: 0.8976408121358617\n",
      "At Random state 163, the testing accuracy is: 0.8836451257252198\n",
      "\n",
      "\n",
      "At Random state 164, the training accuracy is: 0.882088014518281\n",
      "At Random state 164, the testing accuracy is: 0.9164354954690825\n",
      "\n",
      "\n",
      "At Random state 165, the training accuracy is: 0.8977908585593177\n",
      "At Random state 165, the testing accuracy is: 0.8856049730841886\n",
      "\n",
      "\n",
      "At Random state 166, the training accuracy is: 0.8855933670241033\n",
      "At Random state 166, the testing accuracy is: 0.9107060292447581\n",
      "\n",
      "\n",
      "At Random state 167, the training accuracy is: 0.9115019327855028\n",
      "At Random state 167, the testing accuracy is: 0.852833019435454\n",
      "\n",
      "\n",
      "At Random state 168, the training accuracy is: 0.8920417456809969\n",
      "At Random state 168, the testing accuracy is: 0.8924021529130548\n",
      "\n",
      "\n",
      "At Random state 169, the training accuracy is: 0.9043601630411398\n",
      "At Random state 169, the testing accuracy is: 0.8683803792694424\n",
      "\n",
      "\n",
      "At Random state 170, the training accuracy is: 0.9053000932570152\n",
      "At Random state 170, the testing accuracy is: 0.876436170603243\n",
      "\n",
      "\n",
      "At Random state 171, the training accuracy is: 0.8964148384990257\n",
      "At Random state 171, the testing accuracy is: 0.8883171935797055\n",
      "\n",
      "\n",
      "At Random state 172, the training accuracy is: 0.9165109844501684\n",
      "At Random state 172, the testing accuracy is: 0.827195413702238\n",
      "\n",
      "\n",
      "At Random state 173, the training accuracy is: 0.9077599443244269\n",
      "At Random state 173, the testing accuracy is: 0.8605479682174841\n",
      "\n",
      "\n",
      "At Random state 174, the training accuracy is: 0.8908035588014548\n",
      "At Random state 174, the testing accuracy is: 0.9063985605471191\n",
      "\n",
      "\n",
      "At Random state 175, the training accuracy is: 0.8941447212832043\n",
      "At Random state 175, the testing accuracy is: 0.8963013039615172\n",
      "\n",
      "\n",
      "At Random state 176, the training accuracy is: 0.88051011079539\n",
      "At Random state 176, the testing accuracy is: 0.9201671104689877\n",
      "\n",
      "\n",
      "At Random state 177, the training accuracy is: 0.8931598636627235\n",
      "At Random state 177, the testing accuracy is: 0.8965062402345705\n",
      "\n",
      "\n",
      "At Random state 178, the training accuracy is: 0.9142770859859264\n",
      "At Random state 178, the testing accuracy is: 0.8407503655142735\n",
      "\n",
      "\n",
      "At Random state 179, the training accuracy is: 0.9081807409721303\n",
      "At Random state 179, the testing accuracy is: 0.8348198873984556\n",
      "\n",
      "\n",
      "At Random state 180, the training accuracy is: 0.901133468767655\n",
      "At Random state 180, the testing accuracy is: 0.8681376493543991\n",
      "\n",
      "\n",
      "At Random state 181, the training accuracy is: 0.8970448772375816\n",
      "At Random state 181, the testing accuracy is: 0.8886022709333447\n",
      "\n",
      "\n",
      "At Random state 182, the training accuracy is: 0.8790620560650786\n",
      "At Random state 182, the testing accuracy is: 0.9207338850087656\n",
      "\n",
      "\n",
      "At Random state 183, the training accuracy is: 0.9026575754288854\n",
      "At Random state 183, the testing accuracy is: 0.8777895541359645\n",
      "\n",
      "\n",
      "At Random state 184, the training accuracy is: 0.8998292475924161\n",
      "At Random state 184, the testing accuracy is: 0.8779895215856202\n",
      "\n",
      "\n",
      "At Random state 185, the training accuracy is: 0.8862890620766194\n",
      "At Random state 185, the testing accuracy is: 0.9090870121616642\n",
      "\n",
      "\n",
      "At Random state 186, the training accuracy is: 0.8921825295864112\n",
      "At Random state 186, the testing accuracy is: 0.9001614766799915\n",
      "\n",
      "\n",
      "At Random state 187, the training accuracy is: 0.8805400882921173\n",
      "At Random state 187, the testing accuracy is: 0.9201251455035135\n",
      "\n",
      "\n",
      "At Random state 188, the training accuracy is: 0.8838522903332586\n",
      "At Random state 188, the testing accuracy is: 0.9162563720479855\n",
      "\n",
      "\n",
      "At Random state 189, the training accuracy is: 0.8880847494736722\n",
      "At Random state 189, the testing accuracy is: 0.8985418324910892\n",
      "\n",
      "\n",
      "At Random state 190, the training accuracy is: 0.8999607528831232\n",
      "At Random state 190, the testing accuracy is: 0.8803591111838531\n",
      "\n",
      "\n",
      "At Random state 191, the training accuracy is: 0.9080124047354856\n",
      "At Random state 191, the testing accuracy is: 0.8336827508576501\n",
      "\n",
      "\n",
      "At Random state 192, the training accuracy is: 0.8894357357620363\n",
      "At Random state 192, the testing accuracy is: 0.9070961442158649\n",
      "\n",
      "\n",
      "At Random state 193, the training accuracy is: 0.8829873185220347\n",
      "At Random state 193, the testing accuracy is: 0.9242113455819849\n",
      "\n",
      "\n",
      "At Random state 194, the training accuracy is: 0.882482646065472\n",
      "At Random state 194, the testing accuracy is: 0.9166127355206761\n",
      "\n",
      "\n",
      "At Random state 195, the training accuracy is: 0.9031084240021412\n",
      "At Random state 195, the testing accuracy is: 0.8749773427600068\n",
      "\n",
      "\n",
      "At Random state 196, the training accuracy is: 0.9023187032493848\n",
      "At Random state 196, the testing accuracy is: 0.8687477231838022\n",
      "\n",
      "\n",
      "At Random state 197, the training accuracy is: 0.9092152672290333\n",
      "At Random state 197, the testing accuracy is: 0.8516527792740465\n",
      "\n",
      "\n",
      "At Random state 198, the training accuracy is: 0.8977927607262374\n",
      "At Random state 198, the testing accuracy is: 0.8780544114304701\n",
      "\n",
      "\n",
      "At Random state 199, the training accuracy is: 0.902795021871437\n",
      "At Random state 199, the testing accuracy is: 0.8771589476162502\n",
      "\n",
      "\n"
     ]
    }
   ],
   "source": [
    "from sklearn.linear_model import LinearRegression\n",
    "mod=LinearRegression()\n",
    "maxAccu1=0\n",
    "maxRS1=0\n",
    "maxAccu2=0\n",
    "maxRS2=0\n",
    "for i in range(0,200):\n",
    "    x_train, x_test, y_train, y_test= train_test_split(x,y,test_size=.30, random_state=i)\n",
    "    mod.fit(x_train,y_train)\n",
    "    pred_train=mod.predict(x_train)\n",
    "    pred_test=mod.predict(x_test)\n",
    "    acc1=r2_score(y_train,pred_train)\n",
    "    acc2=r2_score(y_test,pred_test)\n",
    "    print(f\"At Random state {i}, the training accuracy is: {r2_score(y_train,pred_train)}\")\n",
    "    print(f\"At Random state {i}, the testing accuracy is: {r2_score(y_test,pred_test)}\")\n",
    "    print(\"\\n\")\n",
    "    if acc1>maxAccu1:\n",
    "        maxAccu1=acc1\n",
    "        maxRS1=i\n",
    "        \n",
    "    if acc2>maxAccu2:\n",
    "        maxAccu2=acc2\n",
    "        maxRS2=i"
   ]
  },
  {
   "cell_type": "code",
   "execution_count": 49,
   "id": "b03099b3",
   "metadata": {},
   "outputs": [
    {
     "name": "stdout",
     "output_type": "stream",
     "text": [
      "Best train accuracy is 0.9238019178213818 on Random_state 10\n",
      "\n",
      "\n",
      "Best test accuracy is 0.9359870808019579 on Random_state 90\n"
     ]
    }
   ],
   "source": [
    "print(\"Best train accuracy is\",maxAccu1,\"on Random_state\",maxRS1)\n",
    "print(\"\\n\")\n",
    "print(\"Best test accuracy is\",maxAccu2,\"on Random_state\",maxRS2)"
   ]
  },
  {
   "cell_type": "code",
   "execution_count": null,
   "id": "bd3eec6e",
   "metadata": {},
   "outputs": [],
   "source": []
  },
  {
   "cell_type": "code",
   "execution_count": null,
   "id": "c088a0f6",
   "metadata": {},
   "outputs": [],
   "source": []
  },
  {
   "cell_type": "code",
   "execution_count": null,
   "id": "498be5b9",
   "metadata": {},
   "outputs": [],
   "source": []
  },
  {
   "cell_type": "markdown",
   "id": "bb93b756",
   "metadata": {},
   "source": [
    "# Train and Test Split:"
   ]
  },
  {
   "cell_type": "code",
   "execution_count": 50,
   "id": "53827dde",
   "metadata": {},
   "outputs": [],
   "source": [
    "x_train, x_test, y_train, y_test= train_test_split(x,y,test_size=.30, random_state=90)"
   ]
  },
  {
   "cell_type": "code",
   "execution_count": null,
   "id": "c4a55f56",
   "metadata": {},
   "outputs": [],
   "source": []
  },
  {
   "cell_type": "code",
   "execution_count": null,
   "id": "16517610",
   "metadata": {},
   "outputs": [],
   "source": []
  },
  {
   "cell_type": "code",
   "execution_count": null,
   "id": "1169a720",
   "metadata": {},
   "outputs": [],
   "source": []
  },
  {
   "cell_type": "code",
   "execution_count": null,
   "id": "049fc3e3",
   "metadata": {},
   "outputs": [],
   "source": []
  },
  {
   "cell_type": "markdown",
   "id": "77c8ff7b",
   "metadata": {},
   "source": [
    "# Linear Regression:"
   ]
  },
  {
   "cell_type": "code",
   "execution_count": 51,
   "id": "0df090d9",
   "metadata": {},
   "outputs": [
    {
     "name": "stdout",
     "output_type": "stream",
     "text": [
      "0.9359870808019579\n"
     ]
    }
   ],
   "source": [
    "LR=LinearRegression()\n",
    "LR.fit(x_train,y_train)\n",
    "pred_test=LR.predict(x_test)\n",
    "\n",
    "print(r2_score(y_test,pred_test))"
   ]
  },
  {
   "cell_type": "code",
   "execution_count": null,
   "id": "a90c3f74",
   "metadata": {},
   "outputs": [],
   "source": []
  },
  {
   "cell_type": "markdown",
   "id": "50a69987",
   "metadata": {},
   "source": [
    "# Decision Tree Regression:"
   ]
  },
  {
   "cell_type": "code",
   "execution_count": 52,
   "id": "daa75b7f",
   "metadata": {},
   "outputs": [
    {
     "name": "stdout",
     "output_type": "stream",
     "text": [
      "0.9665964233213924\n"
     ]
    }
   ],
   "source": [
    "from sklearn.tree import DecisionTreeRegressor\n",
    "\n",
    "DTR=DecisionTreeRegressor()\n",
    "DTR.fit(x_train,y_train)\n",
    "pred_test=DTR.predict(x_test)\n",
    "\n",
    "print(r2_score(y_test,pred_test))"
   ]
  },
  {
   "cell_type": "code",
   "execution_count": null,
   "id": "7fb473ac",
   "metadata": {},
   "outputs": [],
   "source": []
  },
  {
   "cell_type": "markdown",
   "id": "404fc0d9",
   "metadata": {},
   "source": [
    "# RandomForestRegressor:"
   ]
  },
  {
   "cell_type": "code",
   "execution_count": 53,
   "id": "ccd52254",
   "metadata": {},
   "outputs": [
    {
     "name": "stdout",
     "output_type": "stream",
     "text": [
      "0.9712004307125149\n"
     ]
    }
   ],
   "source": [
    "from sklearn.ensemble import RandomForestRegressor\n",
    "RFR= RandomForestRegressor()\n",
    "RFR.fit(x_train,y_train)\n",
    "pred_test=RFR.predict(x_test)\n",
    "\n",
    "print(r2_score(y_test,pred_test))"
   ]
  },
  {
   "cell_type": "code",
   "execution_count": null,
   "id": "f4e56cce",
   "metadata": {},
   "outputs": [],
   "source": []
  },
  {
   "cell_type": "code",
   "execution_count": null,
   "id": "7f7284d2",
   "metadata": {},
   "outputs": [],
   "source": []
  },
  {
   "cell_type": "markdown",
   "id": "b8963079",
   "metadata": {},
   "source": [
    "# SupportVectorRegressor:"
   ]
  },
  {
   "cell_type": "code",
   "execution_count": 54,
   "id": "178eab1b",
   "metadata": {},
   "outputs": [
    {
     "name": "stdout",
     "output_type": "stream",
     "text": [
      "0.7836444169989594\n"
     ]
    }
   ],
   "source": [
    "from sklearn.svm import SVR\n",
    "SV= SVR()\n",
    "SV.fit(x_train,y_train)\n",
    "pred_test=SV.predict(x_test)\n",
    "\n",
    "print(r2_score(y_test,pred_test))"
   ]
  },
  {
   "cell_type": "code",
   "execution_count": null,
   "id": "69d4df5b",
   "metadata": {},
   "outputs": [],
   "source": []
  },
  {
   "cell_type": "markdown",
   "id": "eeb84836",
   "metadata": {},
   "source": [
    "# LinearSVR:"
   ]
  },
  {
   "cell_type": "code",
   "execution_count": 55,
   "id": "1d7b2992",
   "metadata": {},
   "outputs": [
    {
     "name": "stdout",
     "output_type": "stream",
     "text": [
      "0.7764652910055043\n"
     ]
    }
   ],
   "source": [
    "from sklearn.svm import LinearSVR\n",
    "LSV= LinearSVR()\n",
    "LSV.fit(x_train,y_train)\n",
    "pred_test=LSV.predict(x_test)\n",
    "\n",
    "print(r2_score(y_test,pred_test))"
   ]
  },
  {
   "cell_type": "code",
   "execution_count": null,
   "id": "71ea5699",
   "metadata": {},
   "outputs": [],
   "source": []
  },
  {
   "cell_type": "code",
   "execution_count": null,
   "id": "c6ce0d9d",
   "metadata": {},
   "outputs": [],
   "source": []
  },
  {
   "cell_type": "code",
   "execution_count": null,
   "id": "7b2e9312",
   "metadata": {},
   "outputs": [],
   "source": []
  },
  {
   "cell_type": "markdown",
   "id": "44c19ec3",
   "metadata": {},
   "source": [
    "# AdaBoostRegressor:"
   ]
  },
  {
   "cell_type": "code",
   "execution_count": 56,
   "id": "548e67e2",
   "metadata": {},
   "outputs": [
    {
     "name": "stdout",
     "output_type": "stream",
     "text": [
      "0.9426623617984617\n"
     ]
    }
   ],
   "source": [
    "from sklearn.ensemble import AdaBoostRegressor\n",
    "ADR= AdaBoostRegressor()\n",
    "ADR.fit(x_train,y_train)\n",
    "pred_test=ADR.predict(x_test)\n",
    "\n",
    "print(r2_score(y_test,pred_test))"
   ]
  },
  {
   "cell_type": "code",
   "execution_count": null,
   "id": "2ced5b1b",
   "metadata": {},
   "outputs": [],
   "source": []
  },
  {
   "cell_type": "code",
   "execution_count": null,
   "id": "cf85d08b",
   "metadata": {},
   "outputs": [],
   "source": []
  },
  {
   "cell_type": "markdown",
   "id": "a36fcc12",
   "metadata": {},
   "source": [
    "# BaggingRegressor:"
   ]
  },
  {
   "cell_type": "code",
   "execution_count": 57,
   "id": "78e10a75",
   "metadata": {},
   "outputs": [
    {
     "name": "stdout",
     "output_type": "stream",
     "text": [
      "0.9701637140841594\n"
     ]
    }
   ],
   "source": [
    "from sklearn.ensemble import BaggingRegressor\n",
    "BR= BaggingRegressor()\n",
    "BR.fit(x_train,y_train)\n",
    "pred_test=BR.predict(x_test)\n",
    "\n",
    "print(r2_score(y_test,pred_test))"
   ]
  },
  {
   "cell_type": "code",
   "execution_count": null,
   "id": "d34f36f4",
   "metadata": {},
   "outputs": [],
   "source": []
  },
  {
   "cell_type": "code",
   "execution_count": null,
   "id": "e1b73b1c",
   "metadata": {},
   "outputs": [],
   "source": []
  },
  {
   "cell_type": "code",
   "execution_count": null,
   "id": "1a923f2b",
   "metadata": {},
   "outputs": [],
   "source": []
  },
  {
   "cell_type": "markdown",
   "id": "ffb1e063",
   "metadata": {},
   "source": [
    "# ExtraTreesRegressor:"
   ]
  },
  {
   "cell_type": "code",
   "execution_count": 58,
   "id": "3505bc55",
   "metadata": {},
   "outputs": [
    {
     "name": "stdout",
     "output_type": "stream",
     "text": [
      "0.9909661712622726\n"
     ]
    }
   ],
   "source": [
    "from sklearn.ensemble import ExtraTreesRegressor\n",
    "ETR= ExtraTreesRegressor()\n",
    "ETR.fit(x_train,y_train)\n",
    "pred_test=ETR.predict(x_test)\n",
    "\n",
    "print(r2_score(y_test,pred_test))"
   ]
  },
  {
   "cell_type": "code",
   "execution_count": null,
   "id": "2c937c47",
   "metadata": {},
   "outputs": [],
   "source": []
  },
  {
   "cell_type": "code",
   "execution_count": null,
   "id": "b9091c57",
   "metadata": {},
   "outputs": [],
   "source": []
  },
  {
   "cell_type": "markdown",
   "id": "6c7f3c81",
   "metadata": {},
   "source": [
    "# GradientBoostingRegressor:"
   ]
  },
  {
   "cell_type": "code",
   "execution_count": 147,
   "id": "ea29174d",
   "metadata": {},
   "outputs": [
    {
     "name": "stdout",
     "output_type": "stream",
     "text": [
      "0.9769484320565014\n"
     ]
    }
   ],
   "source": [
    "from sklearn.ensemble import GradientBoostingRegressor\n",
    "GBR= GradientBoostingRegressor()\n",
    "GBR.fit(x_train,y_train)\n",
    "pred_test=GBR.predict(x_test)\n",
    "\n",
    "print(r2_score(y_test,pred_test))"
   ]
  },
  {
   "cell_type": "code",
   "execution_count": null,
   "id": "997bc554",
   "metadata": {},
   "outputs": [],
   "source": []
  },
  {
   "cell_type": "code",
   "execution_count": null,
   "id": "d14402b2",
   "metadata": {},
   "outputs": [],
   "source": []
  },
  {
   "cell_type": "markdown",
   "id": "373d5ae8",
   "metadata": {},
   "source": [
    "# PLSRegression:"
   ]
  },
  {
   "cell_type": "code",
   "execution_count": 60,
   "id": "6ab77192",
   "metadata": {},
   "outputs": [
    {
     "name": "stdout",
     "output_type": "stream",
     "text": [
      "0.9303590842288714\n"
     ]
    }
   ],
   "source": [
    "from sklearn.cross_decomposition import PLSRegression\n",
    "PLSR=PLSRegression()\n",
    "PLSR.fit(x_train,y_train)\n",
    "pred_test=PLSR.predict(x_test)\n",
    "\n",
    "print(r2_score(y_test,pred_test))\n"
   ]
  },
  {
   "cell_type": "code",
   "execution_count": null,
   "id": "a2693054",
   "metadata": {},
   "outputs": [],
   "source": []
  },
  {
   "cell_type": "code",
   "execution_count": null,
   "id": "609007bf",
   "metadata": {},
   "outputs": [],
   "source": []
  },
  {
   "cell_type": "markdown",
   "id": "60e5d6f7",
   "metadata": {},
   "source": [
    "# SGDRegressor:"
   ]
  },
  {
   "cell_type": "code",
   "execution_count": 70,
   "id": "72c0f59a",
   "metadata": {},
   "outputs": [
    {
     "name": "stdout",
     "output_type": "stream",
     "text": [
      "-2.785475677473511e+25\n"
     ]
    }
   ],
   "source": [
    "from sklearn.linear_model import SGDRegressor\n",
    "SGDR=SGDRegressor()\n",
    "SGDR.fit(x_train,y_train)\n",
    "pred_test=SGDR.predict(x_test)\n",
    "\n",
    "print(r2_score(y_test,pred_test))\n"
   ]
  },
  {
   "cell_type": "code",
   "execution_count": null,
   "id": "357d5308",
   "metadata": {},
   "outputs": [],
   "source": []
  },
  {
   "cell_type": "code",
   "execution_count": null,
   "id": "03850372",
   "metadata": {},
   "outputs": [],
   "source": []
  },
  {
   "cell_type": "markdown",
   "id": "dd4adafe",
   "metadata": {},
   "source": [
    "# ARDRegression:"
   ]
  },
  {
   "cell_type": "code",
   "execution_count": 64,
   "id": "b7b08551",
   "metadata": {},
   "outputs": [
    {
     "name": "stdout",
     "output_type": "stream",
     "text": [
      "0.9382960309315028\n"
     ]
    }
   ],
   "source": [
    "from sklearn.linear_model import ARDRegression\n",
    "ARDR=ARDRegression()\n",
    "ARDR.fit(x_train,y_train)\n",
    "pred_test=ARDR.predict(x_test)\n",
    "\n",
    "print(r2_score(y_test,pred_test))\n"
   ]
  },
  {
   "cell_type": "code",
   "execution_count": null,
   "id": "fc9f39b8",
   "metadata": {},
   "outputs": [],
   "source": []
  },
  {
   "cell_type": "markdown",
   "id": "2838ffcc",
   "metadata": {},
   "source": [
    "# BayesianRidge:"
   ]
  },
  {
   "cell_type": "code",
   "execution_count": 65,
   "id": "01171e7a",
   "metadata": {},
   "outputs": [
    {
     "name": "stdout",
     "output_type": "stream",
     "text": [
      "0.936378883862725\n"
     ]
    }
   ],
   "source": [
    "from sklearn.linear_model import BayesianRidge\n",
    "BAYR=BayesianRidge()\n",
    "BAYR.fit(x_train,y_train)\n",
    "pred_test=BAYR.predict(x_test)\n",
    "\n",
    "print(r2_score(y_test,pred_test))\n"
   ]
  },
  {
   "cell_type": "code",
   "execution_count": null,
   "id": "3cddfeff",
   "metadata": {},
   "outputs": [],
   "source": []
  },
  {
   "cell_type": "code",
   "execution_count": null,
   "id": "8b027ccc",
   "metadata": {},
   "outputs": [],
   "source": []
  },
  {
   "cell_type": "markdown",
   "id": "f1e0c83d",
   "metadata": {},
   "source": [
    "# HuberRegressor:"
   ]
  },
  {
   "cell_type": "code",
   "execution_count": 66,
   "id": "13afc948",
   "metadata": {},
   "outputs": [
    {
     "name": "stdout",
     "output_type": "stream",
     "text": [
      "0.9263918015359888\n"
     ]
    }
   ],
   "source": [
    "from sklearn.linear_model import HuberRegressor\n",
    "HR=HuberRegressor()\n",
    "HR.fit(x_train,y_train)\n",
    "pred_test=HR.predict(x_test)\n",
    "\n",
    "print(r2_score(y_test,pred_test))"
   ]
  },
  {
   "cell_type": "code",
   "execution_count": null,
   "id": "533ad224",
   "metadata": {},
   "outputs": [],
   "source": []
  },
  {
   "cell_type": "markdown",
   "id": "2cd6c9ca",
   "metadata": {},
   "source": [
    "# TheilSenRegressor:"
   ]
  },
  {
   "cell_type": "code",
   "execution_count": 67,
   "id": "ae0ce906",
   "metadata": {},
   "outputs": [
    {
     "name": "stdout",
     "output_type": "stream",
     "text": [
      "0.9106844536960641\n"
     ]
    }
   ],
   "source": [
    "from sklearn.linear_model import TheilSenRegressor\n",
    "TR=TheilSenRegressor()\n",
    "TR.fit(x_train,y_train)\n",
    "pred_test=TR.predict(x_test)\n",
    "\n",
    "print(r2_score(y_test,pred_test))"
   ]
  },
  {
   "cell_type": "code",
   "execution_count": null,
   "id": "0de57bcd",
   "metadata": {},
   "outputs": [],
   "source": []
  },
  {
   "cell_type": "code",
   "execution_count": null,
   "id": "0fe68a2c",
   "metadata": {},
   "outputs": [],
   "source": []
  },
  {
   "cell_type": "markdown",
   "id": "7ca83fed",
   "metadata": {},
   "source": [
    "# Cross Validation Score:"
   ]
  },
  {
   "cell_type": "code",
   "execution_count": 85,
   "id": "0825307a",
   "metadata": {},
   "outputs": [],
   "source": [
    "from sklearn.model_selection import cross_val_score"
   ]
  },
  {
   "cell_type": "code",
   "execution_count": 73,
   "id": "081eb93d",
   "metadata": {
    "scrolled": true
   },
   "outputs": [
    {
     "name": "stdout",
     "output_type": "stream",
     "text": [
      "0.8857406146589945\n"
     ]
    }
   ],
   "source": [
    "print(cross_val_score(LR,x,y,cv=5).mean())"
   ]
  },
  {
   "cell_type": "code",
   "execution_count": 74,
   "id": "d94539f3",
   "metadata": {},
   "outputs": [
    {
     "data": {
      "text/plain": [
       "5.024646614296346"
      ]
     },
     "execution_count": 74,
     "metadata": {},
     "output_type": "execute_result"
    }
   ],
   "source": [
    "(0.9359870808019579-0.8857406146589945)*100"
   ]
  },
  {
   "cell_type": "code",
   "execution_count": null,
   "id": "65ee8228",
   "metadata": {},
   "outputs": [],
   "source": []
  },
  {
   "cell_type": "code",
   "execution_count": null,
   "id": "e26bf321",
   "metadata": {},
   "outputs": [],
   "source": []
  },
  {
   "cell_type": "code",
   "execution_count": null,
   "id": "342c5c5e",
   "metadata": {},
   "outputs": [],
   "source": []
  },
  {
   "cell_type": "code",
   "execution_count": 86,
   "id": "b3aded86",
   "metadata": {},
   "outputs": [
    {
     "name": "stdout",
     "output_type": "stream",
     "text": [
      "0.9495076750155664\n"
     ]
    }
   ],
   "source": [
    "print(cross_val_score(DTR,x,y,cv=5).mean())"
   ]
  },
  {
   "cell_type": "code",
   "execution_count": 87,
   "id": "d361768d",
   "metadata": {},
   "outputs": [
    {
     "data": {
      "text/plain": [
       "1.7088748305825963"
      ]
     },
     "execution_count": 87,
     "metadata": {},
     "output_type": "execute_result"
    }
   ],
   "source": [
    "(0.9665964233213924-0.9495076750155664)*100"
   ]
  },
  {
   "cell_type": "code",
   "execution_count": null,
   "id": "58271908",
   "metadata": {},
   "outputs": [],
   "source": []
  },
  {
   "cell_type": "code",
   "execution_count": null,
   "id": "39422f39",
   "metadata": {},
   "outputs": [],
   "source": []
  },
  {
   "cell_type": "code",
   "execution_count": 88,
   "id": "66558d49",
   "metadata": {},
   "outputs": [
    {
     "name": "stdout",
     "output_type": "stream",
     "text": [
      "0.9752737386589108\n"
     ]
    }
   ],
   "source": [
    "print(cross_val_score(RFR,x,y,cv=5).mean())"
   ]
  },
  {
   "cell_type": "code",
   "execution_count": 89,
   "id": "2e98d9a1",
   "metadata": {},
   "outputs": [
    {
     "data": {
      "text/plain": [
       "-0.4073307946395821"
      ]
     },
     "execution_count": 89,
     "metadata": {},
     "output_type": "execute_result"
    }
   ],
   "source": [
    "(0.9712004307125149-0.9752737386589108)*100"
   ]
  },
  {
   "cell_type": "code",
   "execution_count": null,
   "id": "26838d21",
   "metadata": {},
   "outputs": [],
   "source": []
  },
  {
   "cell_type": "code",
   "execution_count": null,
   "id": "7d28099a",
   "metadata": {},
   "outputs": [],
   "source": []
  },
  {
   "cell_type": "code",
   "execution_count": null,
   "id": "6b560e0c",
   "metadata": {},
   "outputs": [],
   "source": []
  },
  {
   "cell_type": "code",
   "execution_count": 90,
   "id": "21c823c7",
   "metadata": {},
   "outputs": [
    {
     "name": "stdout",
     "output_type": "stream",
     "text": [
      "0.8351936374128008\n"
     ]
    }
   ],
   "source": [
    "print(cross_val_score(SV,x,y,cv=5).mean())"
   ]
  },
  {
   "cell_type": "code",
   "execution_count": 80,
   "id": "5f1ff7e2",
   "metadata": {},
   "outputs": [
    {
     "data": {
      "text/plain": [
       "-5.154922041384147"
      ]
     },
     "execution_count": 80,
     "metadata": {},
     "output_type": "execute_result"
    }
   ],
   "source": [
    "(0.7836444169989594-0.8351936374128008)*100"
   ]
  },
  {
   "cell_type": "code",
   "execution_count": null,
   "id": "2811b242",
   "metadata": {},
   "outputs": [],
   "source": []
  },
  {
   "cell_type": "code",
   "execution_count": null,
   "id": "947d8396",
   "metadata": {},
   "outputs": [],
   "source": []
  },
  {
   "cell_type": "code",
   "execution_count": 91,
   "id": "b41292bc",
   "metadata": {},
   "outputs": [
    {
     "name": "stdout",
     "output_type": "stream",
     "text": [
      "0.7198456754262553\n"
     ]
    }
   ],
   "source": [
    "print(cross_val_score(LSV,x,y,cv=5).mean())"
   ]
  },
  {
   "cell_type": "code",
   "execution_count": 92,
   "id": "bc31cfc4",
   "metadata": {},
   "outputs": [
    {
     "data": {
      "text/plain": [
       "5.661961557924899"
      ]
     },
     "execution_count": 92,
     "metadata": {},
     "output_type": "execute_result"
    }
   ],
   "source": [
    "(0.7764652910055043-0.7198456754262553)*100"
   ]
  },
  {
   "cell_type": "code",
   "execution_count": null,
   "id": "486794e4",
   "metadata": {},
   "outputs": [],
   "source": []
  },
  {
   "cell_type": "code",
   "execution_count": null,
   "id": "3a92905d",
   "metadata": {},
   "outputs": [],
   "source": []
  },
  {
   "cell_type": "code",
   "execution_count": 83,
   "id": "df997e42",
   "metadata": {},
   "outputs": [
    {
     "name": "stdout",
     "output_type": "stream",
     "text": [
      "0.9538525591434313\n"
     ]
    }
   ],
   "source": [
    "print(cross_val_score(ADR,x,y,cv=5).mean())"
   ]
  },
  {
   "cell_type": "code",
   "execution_count": 93,
   "id": "1b65a04e",
   "metadata": {},
   "outputs": [
    {
     "data": {
      "text/plain": [
       "-1.119019734496951"
      ]
     },
     "execution_count": 93,
     "metadata": {},
     "output_type": "execute_result"
    }
   ],
   "source": [
    "(0.9426623617984617-0.9538525591434313)*100"
   ]
  },
  {
   "cell_type": "code",
   "execution_count": null,
   "id": "61600311",
   "metadata": {},
   "outputs": [],
   "source": []
  },
  {
   "cell_type": "code",
   "execution_count": null,
   "id": "85e8956f",
   "metadata": {},
   "outputs": [],
   "source": []
  },
  {
   "cell_type": "code",
   "execution_count": 141,
   "id": "c9b34057",
   "metadata": {},
   "outputs": [
    {
     "name": "stdout",
     "output_type": "stream",
     "text": [
      "0.9736917250921614\n"
     ]
    }
   ],
   "source": [
    "print(cross_val_score(BR,x,y,cv=5).mean())"
   ]
  },
  {
   "cell_type": "code",
   "execution_count": 142,
   "id": "bcb0a115",
   "metadata": {},
   "outputs": [
    {
     "data": {
      "text/plain": [
       "-0.3528011008002041"
      ]
     },
     "execution_count": 142,
     "metadata": {},
     "output_type": "execute_result"
    }
   ],
   "source": [
    "(0.9701637140841594-0.9736917250921614)*100"
   ]
  },
  {
   "cell_type": "code",
   "execution_count": null,
   "id": "9f0c3b67",
   "metadata": {},
   "outputs": [],
   "source": []
  },
  {
   "cell_type": "code",
   "execution_count": 130,
   "id": "3b4ccc53",
   "metadata": {},
   "outputs": [
    {
     "name": "stdout",
     "output_type": "stream",
     "text": [
      "0.9877082337851789\n"
     ]
    }
   ],
   "source": [
    "print(cross_val_score(ETR,x,y,cv=5).mean())"
   ]
  },
  {
   "cell_type": "code",
   "execution_count": 131,
   "id": "69a3dea2",
   "metadata": {},
   "outputs": [
    {
     "data": {
      "text/plain": [
       "0.32579374770936864"
      ]
     },
     "execution_count": 131,
     "metadata": {},
     "output_type": "execute_result"
    }
   ],
   "source": [
    "(0.9909661712622726-0.9877082337851789)*100"
   ]
  },
  {
   "cell_type": "code",
   "execution_count": null,
   "id": "175b712a",
   "metadata": {},
   "outputs": [],
   "source": []
  },
  {
   "cell_type": "code",
   "execution_count": null,
   "id": "3f12abf7",
   "metadata": {},
   "outputs": [],
   "source": []
  },
  {
   "cell_type": "code",
   "execution_count": 149,
   "id": "923f74b4",
   "metadata": {},
   "outputs": [
    {
     "name": "stdout",
     "output_type": "stream",
     "text": [
      "0.9782274070930754\n"
     ]
    }
   ],
   "source": [
    "print(cross_val_score(GBR,x,y,cv=5).mean())"
   ]
  },
  {
   "cell_type": "code",
   "execution_count": 150,
   "id": "3dfed5cb",
   "metadata": {},
   "outputs": [
    {
     "data": {
      "text/plain": [
       "-0.1278975036574037"
      ]
     },
     "execution_count": 150,
     "metadata": {},
     "output_type": "execute_result"
    }
   ],
   "source": [
    "(0.9769484320565014-0.9782274070930754)*100"
   ]
  },
  {
   "cell_type": "code",
   "execution_count": null,
   "id": "1362f309",
   "metadata": {},
   "outputs": [],
   "source": []
  },
  {
   "cell_type": "code",
   "execution_count": null,
   "id": "bd511863",
   "metadata": {},
   "outputs": [],
   "source": []
  },
  {
   "cell_type": "code",
   "execution_count": 100,
   "id": "2e0be9e6",
   "metadata": {},
   "outputs": [
    {
     "name": "stdout",
     "output_type": "stream",
     "text": [
      "0.8861766860406531\n"
     ]
    }
   ],
   "source": [
    "print(cross_val_score(PLSR,x,y,cv=5).mean())"
   ]
  },
  {
   "cell_type": "code",
   "execution_count": 101,
   "id": "6405ab1c",
   "metadata": {},
   "outputs": [
    {
     "data": {
      "text/plain": [
       "4.418239818821823"
      ]
     },
     "execution_count": 101,
     "metadata": {},
     "output_type": "execute_result"
    }
   ],
   "source": [
    "(0.9303590842288714-0.8861766860406531)*100"
   ]
  },
  {
   "cell_type": "code",
   "execution_count": null,
   "id": "866da455",
   "metadata": {},
   "outputs": [],
   "source": []
  },
  {
   "cell_type": "code",
   "execution_count": null,
   "id": "7795d910",
   "metadata": {},
   "outputs": [],
   "source": []
  },
  {
   "cell_type": "code",
   "execution_count": 103,
   "id": "390691b7",
   "metadata": {},
   "outputs": [
    {
     "name": "stdout",
     "output_type": "stream",
     "text": [
      "-1.80299515967118e+25\n"
     ]
    }
   ],
   "source": [
    "print(cross_val_score(SGDR,x,y,cv=5).mean())"
   ]
  },
  {
   "cell_type": "code",
   "execution_count": 106,
   "id": "f886b3e2",
   "metadata": {},
   "outputs": [
    {
     "data": {
      "text/plain": [
       "4.588470837144691e+27"
      ]
     },
     "execution_count": 106,
     "metadata": {},
     "output_type": "execute_result"
    }
   ],
   "source": [
    "(2.785475677473511e+25+1.80299515967118e+25)*100"
   ]
  },
  {
   "cell_type": "code",
   "execution_count": null,
   "id": "f3d44846",
   "metadata": {},
   "outputs": [],
   "source": []
  },
  {
   "cell_type": "code",
   "execution_count": null,
   "id": "115b1cb9",
   "metadata": {},
   "outputs": [],
   "source": []
  },
  {
   "cell_type": "code",
   "execution_count": 107,
   "id": "c587b7ea",
   "metadata": {},
   "outputs": [
    {
     "name": "stdout",
     "output_type": "stream",
     "text": [
      "0.8876296450110418\n"
     ]
    }
   ],
   "source": [
    "print(cross_val_score(ARDR,x,y,cv=5).mean())"
   ]
  },
  {
   "cell_type": "code",
   "execution_count": 108,
   "id": "ab8faefb",
   "metadata": {},
   "outputs": [
    {
     "data": {
      "text/plain": [
       "5.066638592046102"
      ]
     },
     "execution_count": 108,
     "metadata": {},
     "output_type": "execute_result"
    }
   ],
   "source": [
    "(0.9382960309315028-0.8876296450110418)*100"
   ]
  },
  {
   "cell_type": "code",
   "execution_count": null,
   "id": "b97bb37f",
   "metadata": {},
   "outputs": [],
   "source": []
  },
  {
   "cell_type": "code",
   "execution_count": null,
   "id": "4132a42b",
   "metadata": {},
   "outputs": [],
   "source": []
  },
  {
   "cell_type": "code",
   "execution_count": 109,
   "id": "554ebe5e",
   "metadata": {},
   "outputs": [
    {
     "name": "stdout",
     "output_type": "stream",
     "text": [
      "0.8862511620971709\n"
     ]
    }
   ],
   "source": [
    "print(cross_val_score(BAYR,x,y,cv=5).mean())"
   ]
  },
  {
   "cell_type": "code",
   "execution_count": 110,
   "id": "f1a82970",
   "metadata": {},
   "outputs": [
    {
     "data": {
      "text/plain": [
       "5.012772176555414"
      ]
     },
     "execution_count": 110,
     "metadata": {},
     "output_type": "execute_result"
    }
   ],
   "source": [
    "(0.936378883862725-0.8862511620971709)*100"
   ]
  },
  {
   "cell_type": "code",
   "execution_count": null,
   "id": "35ea48bd",
   "metadata": {},
   "outputs": [],
   "source": []
  },
  {
   "cell_type": "code",
   "execution_count": null,
   "id": "6adee37a",
   "metadata": {},
   "outputs": [],
   "source": []
  },
  {
   "cell_type": "code",
   "execution_count": 111,
   "id": "9a30a548",
   "metadata": {},
   "outputs": [
    {
     "name": "stdout",
     "output_type": "stream",
     "text": [
      "0.8812083543296556\n"
     ]
    }
   ],
   "source": [
    "print(cross_val_score(HR,x,y,cv=5).mean())"
   ]
  },
  {
   "cell_type": "code",
   "execution_count": 112,
   "id": "076de6ce",
   "metadata": {},
   "outputs": [
    {
     "data": {
      "text/plain": [
       "4.518344720633316"
      ]
     },
     "execution_count": 112,
     "metadata": {},
     "output_type": "execute_result"
    }
   ],
   "source": [
    "(0.9263918015359888-0.8812083543296556)*100"
   ]
  },
  {
   "cell_type": "code",
   "execution_count": null,
   "id": "fddf997e",
   "metadata": {},
   "outputs": [],
   "source": []
  },
  {
   "cell_type": "code",
   "execution_count": null,
   "id": "6766bd79",
   "metadata": {},
   "outputs": [],
   "source": []
  },
  {
   "cell_type": "code",
   "execution_count": 113,
   "id": "47bf41d7",
   "metadata": {},
   "outputs": [
    {
     "name": "stdout",
     "output_type": "stream",
     "text": [
      "0.8698232977124396\n"
     ]
    }
   ],
   "source": [
    "print(cross_val_score(TR,x,y,cv=5).mean())"
   ]
  },
  {
   "cell_type": "code",
   "execution_count": 114,
   "id": "9611b5df",
   "metadata": {},
   "outputs": [
    {
     "data": {
      "text/plain": [
       "4.08611559836245"
      ]
     },
     "execution_count": 114,
     "metadata": {},
     "output_type": "execute_result"
    }
   ],
   "source": [
    "(0.9106844536960641-0.8698232977124396)*100"
   ]
  },
  {
   "cell_type": "code",
   "execution_count": null,
   "id": "e564451b",
   "metadata": {},
   "outputs": [],
   "source": []
  },
  {
   "cell_type": "markdown",
   "id": "0f3955ce",
   "metadata": {},
   "source": [
    "Since DecisionTreeRegressor,RandomForestRegressor,AdaBoostRegressor,BaggingRegressor,ExtraTreesRegressor and GradientBoostingRegressor have the least difference between accuracy and cross validation score, need to check for evaluation metrics"
   ]
  },
  {
   "cell_type": "code",
   "execution_count": null,
   "id": "3e838a24",
   "metadata": {},
   "outputs": [],
   "source": []
  },
  {
   "cell_type": "code",
   "execution_count": null,
   "id": "32f454b8",
   "metadata": {},
   "outputs": [],
   "source": []
  },
  {
   "cell_type": "markdown",
   "id": "ec8bdc17",
   "metadata": {},
   "source": [
    "# Evaluation Metrics:"
   ]
  },
  {
   "cell_type": "code",
   "execution_count": 115,
   "id": "1c855513",
   "metadata": {},
   "outputs": [],
   "source": [
    "import math\n",
    "from sklearn.metrics import mean_absolute_error,mean_squared_error"
   ]
  },
  {
   "cell_type": "markdown",
   "id": "99c761ee",
   "metadata": {},
   "source": [
    "DecisionTreeRegressor:"
   ]
  },
  {
   "cell_type": "code",
   "execution_count": 116,
   "id": "c962d425",
   "metadata": {},
   "outputs": [
    {
     "name": "stdout",
     "output_type": "stream",
     "text": [
      "MSE: 0.9643333333333326\n",
      "RMSE: 0.9820047521948825\n",
      "MAE: 0.7699999999999998\n"
     ]
    }
   ],
   "source": [
    "DTR=DecisionTreeRegressor()\n",
    "DTR.fit(x_train,y_train)\n",
    "pred_test=DTR.predict(x_test)\n",
    "print(\"MSE:\",mean_squared_error(y_test,pred_test))\n",
    "print(\"RMSE:\",math.sqrt(mean_squared_error(y_test,pred_test)))\n",
    "print(\"MAE:\",mean_absolute_error(y_test,pred_test))"
   ]
  },
  {
   "cell_type": "code",
   "execution_count": null,
   "id": "2ff13b28",
   "metadata": {},
   "outputs": [],
   "source": []
  },
  {
   "cell_type": "markdown",
   "id": "4b95feea",
   "metadata": {},
   "source": [
    "RandomForestRegressor:"
   ]
  },
  {
   "cell_type": "code",
   "execution_count": 117,
   "id": "b753a3a4",
   "metadata": {},
   "outputs": [
    {
     "name": "stdout",
     "output_type": "stream",
     "text": [
      "MSE: 0.6629724333333292\n",
      "RMSE: 0.8142311915748065\n",
      "MAE: 0.6644333333333327\n"
     ]
    }
   ],
   "source": [
    "RFR= RandomForestRegressor()\n",
    "RFR.fit(x_train,y_train)\n",
    "pred_test=RFR.predict(x_test)\n",
    "print(\"MSE:\",mean_squared_error(y_test,pred_test))\n",
    "print(\"RMSE:\",math.sqrt(mean_squared_error(y_test,pred_test)))\n",
    "print(\"MAE:\",mean_absolute_error(y_test,pred_test))"
   ]
  },
  {
   "cell_type": "code",
   "execution_count": null,
   "id": "7978f61e",
   "metadata": {},
   "outputs": [],
   "source": []
  },
  {
   "cell_type": "code",
   "execution_count": null,
   "id": "f18aee1f",
   "metadata": {},
   "outputs": [],
   "source": []
  },
  {
   "cell_type": "markdown",
   "id": "387ad9c1",
   "metadata": {},
   "source": [
    "AdaBoostRegressor:"
   ]
  },
  {
   "cell_type": "code",
   "execution_count": 118,
   "id": "a4559559",
   "metadata": {},
   "outputs": [
    {
     "name": "stdout",
     "output_type": "stream",
     "text": [
      "MSE: 1.1202476176682983\n",
      "RMSE: 1.0584175063122767\n",
      "MAE: 0.8685658717360346\n"
     ]
    }
   ],
   "source": [
    "ADR= AdaBoostRegressor()\n",
    "ADR.fit(x_train,y_train)\n",
    "pred_test=ADR.predict(x_test)\n",
    "print(\"MSE:\",mean_squared_error(y_test,pred_test))\n",
    "print(\"RMSE:\",math.sqrt(mean_squared_error(y_test,pred_test)))\n",
    "print(\"MAE:\",mean_absolute_error(y_test,pred_test))"
   ]
  },
  {
   "cell_type": "code",
   "execution_count": null,
   "id": "7a7d90f6",
   "metadata": {},
   "outputs": [],
   "source": []
  },
  {
   "cell_type": "code",
   "execution_count": null,
   "id": "ca959ade",
   "metadata": {},
   "outputs": [],
   "source": []
  },
  {
   "cell_type": "markdown",
   "id": "486be626",
   "metadata": {},
   "source": [
    "BaggingRegressor:"
   ]
  },
  {
   "cell_type": "code",
   "execution_count": 119,
   "id": "11e49486",
   "metadata": {},
   "outputs": [
    {
     "name": "stdout",
     "output_type": "stream",
     "text": [
      "MSE: 0.5501683333333335\n",
      "RMSE: 0.741733330337348\n",
      "MAE: 0.6041666666666665\n"
     ]
    }
   ],
   "source": [
    "BR= BaggingRegressor()\n",
    "BR.fit(x_train,y_train)\n",
    "pred_test=BR.predict(x_test)\n",
    "print(\"MSE:\",mean_squared_error(y_test,pred_test))\n",
    "print(\"RMSE:\",math.sqrt(mean_squared_error(y_test,pred_test)))\n",
    "print(\"MAE:\",mean_absolute_error(y_test,pred_test))"
   ]
  },
  {
   "cell_type": "code",
   "execution_count": null,
   "id": "a4ba27a3",
   "metadata": {},
   "outputs": [],
   "source": []
  },
  {
   "cell_type": "code",
   "execution_count": null,
   "id": "7cdaad2c",
   "metadata": {},
   "outputs": [],
   "source": []
  },
  {
   "cell_type": "markdown",
   "id": "91406ebe",
   "metadata": {},
   "source": [
    "ExtraTreesRegressor:"
   ]
  },
  {
   "cell_type": "code",
   "execution_count": 120,
   "id": "71db188c",
   "metadata": {},
   "outputs": [
    {
     "name": "stdout",
     "output_type": "stream",
     "text": [
      "MSE: 0.23041046666666187\n",
      "RMSE: 0.4800109026539521\n",
      "MAE: 0.40586666666666243\n"
     ]
    }
   ],
   "source": [
    "ETR= ExtraTreesRegressor()\n",
    "ETR.fit(x_train,y_train)\n",
    "pred_test=ETR.predict(x_test)\n",
    "print(\"MSE:\",mean_squared_error(y_test,pred_test))\n",
    "print(\"RMSE:\",math.sqrt(mean_squared_error(y_test,pred_test)))\n",
    "print(\"MAE:\",mean_absolute_error(y_test,pred_test))"
   ]
  },
  {
   "cell_type": "code",
   "execution_count": null,
   "id": "7101d8be",
   "metadata": {},
   "outputs": [],
   "source": []
  },
  {
   "cell_type": "code",
   "execution_count": null,
   "id": "6ed50499",
   "metadata": {},
   "outputs": [],
   "source": []
  },
  {
   "cell_type": "markdown",
   "id": "b3a6e3de",
   "metadata": {},
   "source": [
    "GradientBoostingRegressor:"
   ]
  },
  {
   "cell_type": "code",
   "execution_count": 121,
   "id": "0dbd2aff",
   "metadata": {},
   "outputs": [
    {
     "name": "stdout",
     "output_type": "stream",
     "text": [
      "MSE: 0.5614396304157072\n",
      "RMSE: 0.7492927534787103\n",
      "MAE: 0.6062013540519494\n"
     ]
    }
   ],
   "source": [
    "GBR= GradientBoostingRegressor()\n",
    "GBR.fit(x_train,y_train)\n",
    "pred_test=GBR.predict(x_test)\n",
    "print(\"MSE:\",mean_squared_error(y_test,pred_test))\n",
    "print(\"RMSE:\",math.sqrt(mean_squared_error(y_test,pred_test)))\n",
    "print(\"MAE:\",mean_absolute_error(y_test,pred_test))"
   ]
  },
  {
   "cell_type": "code",
   "execution_count": null,
   "id": "4bcbc198",
   "metadata": {},
   "outputs": [],
   "source": []
  },
  {
   "cell_type": "markdown",
   "id": "e2caad04",
   "metadata": {},
   "source": [
    "Since ExtraTreesRegressor  is the best model in terms of accuracy and cross validation difference as well as the evaluation metrics, we chose ExtraTreesRegressor to be the final model"
   ]
  },
  {
   "cell_type": "code",
   "execution_count": null,
   "id": "d23eb0fd",
   "metadata": {},
   "outputs": [],
   "source": []
  },
  {
   "cell_type": "code",
   "execution_count": null,
   "id": "a5b169c4",
   "metadata": {},
   "outputs": [],
   "source": []
  },
  {
   "cell_type": "markdown",
   "id": "d5932f9d",
   "metadata": {},
   "source": [
    "# Hyper Parameter Tuning:"
   ]
  },
  {
   "cell_type": "code",
   "execution_count": 151,
   "id": "88ff865c",
   "metadata": {},
   "outputs": [],
   "source": [
    "parameter = { \n",
    "\n",
    "    'criterion': [\"mse\",\"mae\"],\n",
    "    \n",
    "    'max_depth' : [4,5,6,7,8],\n",
    "\n",
    "    'max_features' :[\"auto\", \"sqrt\", \"log2\"],\n",
    "\n",
    "    'min_samples_split' : np.arange(2,10),\n",
    "}"
   ]
  },
  {
   "cell_type": "code",
   "execution_count": 152,
   "id": "e2c16a24",
   "metadata": {},
   "outputs": [
    {
     "data": {
      "text/plain": [
       "GridSearchCV(cv=5, estimator=ExtraTreesRegressor(),\n",
       "             param_grid={'criterion': ['mse', 'mae'],\n",
       "                         'max_depth': [4, 5, 6, 7, 8],\n",
       "                         'max_features': ['auto', 'sqrt', 'log2'],\n",
       "                         'min_samples_split': array([2, 3, 4, 5, 6, 7, 8, 9])})"
      ]
     },
     "execution_count": 152,
     "metadata": {},
     "output_type": "execute_result"
    }
   ],
   "source": [
    "from sklearn.model_selection import GridSearchCV\n",
    "GV=GridSearchCV(ExtraTreesRegressor(),parameter,cv=5)\n",
    "GV.fit(x_train,y_train)"
   ]
  },
  {
   "cell_type": "code",
   "execution_count": 153,
   "id": "a23d0f83",
   "metadata": {},
   "outputs": [
    {
     "data": {
      "text/plain": [
       "{'criterion': 'mse',\n",
       " 'max_depth': 8,\n",
       " 'max_features': 'auto',\n",
       " 'min_samples_split': 5}"
      ]
     },
     "execution_count": 153,
     "metadata": {},
     "output_type": "execute_result"
    }
   ],
   "source": [
    "GV.best_params_"
   ]
  },
  {
   "cell_type": "code",
   "execution_count": null,
   "id": "31083075",
   "metadata": {},
   "outputs": [],
   "source": []
  },
  {
   "cell_type": "code",
   "execution_count": null,
   "id": "5d37906d",
   "metadata": {},
   "outputs": [],
   "source": []
  },
  {
   "cell_type": "markdown",
   "id": "1c442c61",
   "metadata": {},
   "source": [
    "# Finalizing the Model:"
   ]
  },
  {
   "cell_type": "code",
   "execution_count": 158,
   "id": "d890f821",
   "metadata": {},
   "outputs": [],
   "source": [
    "Final_mod=ExtraTreesRegressor(criterion= 'mse',\n",
    " max_depth=8 ,max_features= 'auto',\n",
    " min_samples_split=5)"
   ]
  },
  {
   "cell_type": "code",
   "execution_count": 159,
   "id": "84281d08",
   "metadata": {},
   "outputs": [],
   "source": [
    "Final_mod.fit(x_train,y_train)\n",
    "final_pred=Final_mod.predict(x_test)\n",
    "final_acc=r2_score(y_test,final_pred)"
   ]
  },
  {
   "cell_type": "code",
   "execution_count": 160,
   "id": "bb2cad8a",
   "metadata": {},
   "outputs": [
    {
     "name": "stdout",
     "output_type": "stream",
     "text": [
      "99.11331099308751\n"
     ]
    }
   ],
   "source": [
    "print(final_acc*100)"
   ]
  },
  {
   "cell_type": "code",
   "execution_count": 164,
   "id": "55aadd4b",
   "metadata": {},
   "outputs": [
    {
     "name": "stdout",
     "output_type": "stream",
     "text": [
      "98.62998885108422\n"
     ]
    }
   ],
   "source": [
    "print((cross_val_score(Final_mod,x,y,cv=5).mean())*100)"
   ]
  },
  {
   "cell_type": "code",
   "execution_count": null,
   "id": "63176d8b",
   "metadata": {},
   "outputs": [],
   "source": []
  },
  {
   "cell_type": "code",
   "execution_count": null,
   "id": "d8b34de4",
   "metadata": {},
   "outputs": [],
   "source": []
  },
  {
   "cell_type": "code",
   "execution_count": null,
   "id": "7c69c415",
   "metadata": {},
   "outputs": [],
   "source": []
  },
  {
   "cell_type": "code",
   "execution_count": null,
   "id": "71a7b90e",
   "metadata": {},
   "outputs": [],
   "source": []
  },
  {
   "cell_type": "code",
   "execution_count": 165,
   "id": "9d94bfb4",
   "metadata": {},
   "outputs": [],
   "source": [
    "import pickle\n",
    "filename=\"Advertising.pk1\"\n",
    "pickle.dump(Final_mod,open(filename,\"wb\"))"
   ]
  },
  {
   "cell_type": "code",
   "execution_count": null,
   "id": "7dbe4488",
   "metadata": {},
   "outputs": [],
   "source": []
  },
  {
   "cell_type": "markdown",
   "id": "18d14160",
   "metadata": {},
   "source": [
    "# Conclusion:"
   ]
  },
  {
   "cell_type": "code",
   "execution_count": 166,
   "id": "8e5b2a50",
   "metadata": {},
   "outputs": [
    {
     "name": "stdout",
     "output_type": "stream",
     "text": [
      "0.9911331099308751\n"
     ]
    }
   ],
   "source": [
    "loaded_model=pickle.load(open(\"Advertising.pk1\",\"rb\"))\n",
    "result=loaded_model.score(x_test, y_test)\n",
    "print(result)"
   ]
  },
  {
   "cell_type": "code",
   "execution_count": null,
   "id": "70fac033",
   "metadata": {},
   "outputs": [],
   "source": []
  },
  {
   "cell_type": "code",
   "execution_count": 168,
   "id": "221e3f24",
   "metadata": {},
   "outputs": [
    {
     "data": {
      "text/html": [
       "<div>\n",
       "<style scoped>\n",
       "    .dataframe tbody tr th:only-of-type {\n",
       "        vertical-align: middle;\n",
       "    }\n",
       "\n",
       "    .dataframe tbody tr th {\n",
       "        vertical-align: top;\n",
       "    }\n",
       "\n",
       "    .dataframe thead th {\n",
       "        text-align: right;\n",
       "    }\n",
       "</style>\n",
       "<table border=\"1\" class=\"dataframe\">\n",
       "  <thead>\n",
       "    <tr style=\"text-align: right;\">\n",
       "      <th></th>\n",
       "      <th>0</th>\n",
       "      <th>1</th>\n",
       "      <th>2</th>\n",
       "      <th>3</th>\n",
       "      <th>4</th>\n",
       "      <th>5</th>\n",
       "      <th>6</th>\n",
       "      <th>7</th>\n",
       "      <th>8</th>\n",
       "      <th>9</th>\n",
       "      <th>...</th>\n",
       "      <th>50</th>\n",
       "      <th>51</th>\n",
       "      <th>52</th>\n",
       "      <th>53</th>\n",
       "      <th>54</th>\n",
       "      <th>55</th>\n",
       "      <th>56</th>\n",
       "      <th>57</th>\n",
       "      <th>58</th>\n",
       "      <th>59</th>\n",
       "    </tr>\n",
       "  </thead>\n",
       "  <tbody>\n",
       "    <tr>\n",
       "      <th>Predicted</th>\n",
       "      <td>17.850041</td>\n",
       "      <td>6.579315</td>\n",
       "      <td>22.803881</td>\n",
       "      <td>19.244666</td>\n",
       "      <td>16.110663</td>\n",
       "      <td>21.68704</td>\n",
       "      <td>21.353786</td>\n",
       "      <td>13.111708</td>\n",
       "      <td>22.603819</td>\n",
       "      <td>9.01143</td>\n",
       "      <td>...</td>\n",
       "      <td>11.527998</td>\n",
       "      <td>14.37525</td>\n",
       "      <td>10.584097</td>\n",
       "      <td>8.177137</td>\n",
       "      <td>17.597657</td>\n",
       "      <td>15.235763</td>\n",
       "      <td>8.38278</td>\n",
       "      <td>11.73315</td>\n",
       "      <td>12.160804</td>\n",
       "      <td>11.159562</td>\n",
       "    </tr>\n",
       "    <tr>\n",
       "      <th>Original</th>\n",
       "      <td>18.000000</td>\n",
       "      <td>5.600000</td>\n",
       "      <td>22.300000</td>\n",
       "      <td>19.600000</td>\n",
       "      <td>16.600000</td>\n",
       "      <td>22.20000</td>\n",
       "      <td>21.500000</td>\n",
       "      <td>13.200000</td>\n",
       "      <td>22.400000</td>\n",
       "      <td>8.80000</td>\n",
       "      <td>...</td>\n",
       "      <td>11.400000</td>\n",
       "      <td>14.60000</td>\n",
       "      <td>10.800000</td>\n",
       "      <td>7.600000</td>\n",
       "      <td>17.300000</td>\n",
       "      <td>15.500000</td>\n",
       "      <td>8.50000</td>\n",
       "      <td>11.60000</td>\n",
       "      <td>11.700000</td>\n",
       "      <td>11.000000</td>\n",
       "    </tr>\n",
       "  </tbody>\n",
       "</table>\n",
       "<p>2 rows × 60 columns</p>\n",
       "</div>"
      ],
      "text/plain": [
       "                  0         1          2          3          4         5   \\\n",
       "Predicted  17.850041  6.579315  22.803881  19.244666  16.110663  21.68704   \n",
       "Original   18.000000  5.600000  22.300000  19.600000  16.600000  22.20000   \n",
       "\n",
       "                  6          7          8        9   ...         50        51  \\\n",
       "Predicted  21.353786  13.111708  22.603819  9.01143  ...  11.527998  14.37525   \n",
       "Original   21.500000  13.200000  22.400000  8.80000  ...  11.400000  14.60000   \n",
       "\n",
       "                  52        53         54         55       56        57  \\\n",
       "Predicted  10.584097  8.177137  17.597657  15.235763  8.38278  11.73315   \n",
       "Original   10.800000  7.600000  17.300000  15.500000  8.50000  11.60000   \n",
       "\n",
       "                  58         59  \n",
       "Predicted  12.160804  11.159562  \n",
       "Original   11.700000  11.000000  \n",
       "\n",
       "[2 rows x 60 columns]"
      ]
     },
     "execution_count": 168,
     "metadata": {},
     "output_type": "execute_result"
    }
   ],
   "source": [
    "conclusion=pd.DataFrame([loaded_model.predict(x_test)[:],y_test[:]],index=[\"Predicted\", \"Original\"])\n",
    "conclusion"
   ]
  },
  {
   "cell_type": "code",
   "execution_count": null,
   "id": "1bed8c3d",
   "metadata": {},
   "outputs": [],
   "source": []
  }
 ],
 "metadata": {
  "kernelspec": {
   "display_name": "Python 3",
   "language": "python",
   "name": "python3"
  },
  "language_info": {
   "codemirror_mode": {
    "name": "ipython",
    "version": 3
   },
   "file_extension": ".py",
   "mimetype": "text/x-python",
   "name": "python",
   "nbconvert_exporter": "python",
   "pygments_lexer": "ipython3",
   "version": "3.9.4"
  }
 },
 "nbformat": 4,
 "nbformat_minor": 5
}
